{
 "cells": [
  {
   "cell_type": "markdown",
   "metadata": {
    "slideshow": {
     "slide_type": "slide"
    }
   },
   "source": [
    "# Building Julia Apps and So Can You! <br><small>Compiling and distributing desktop applications written in Julia</small>\n",
    "\n",
    "### Nathan Daly <br><small>nhdaly@gmail.com<br>http://nhdaly.github.io</small><br><br>\n",
    "    \n",
    "\n",
    "Download this notebook here:<br>\n",
    "https://github.com/NHDaly/jupyter-binder/blob/master/akljds2312k1h12xmckv2lopw2.ipynb_\n"
   ]
  },
  {
   "cell_type": "markdown",
   "metadata": {
    "slideshow": {
     "slide_type": "notes"
    }
   },
   "source": [
    "## This Notebook\n",
    "\n",
    "Most of this presentation is in the form of an interactive jupyter notebook. If you've downloaded it (LINKKKKKKKKK), you can open the notebook like this:\n",
    "```julia\n",
    "julia> using IJulia; IJulia.notebook()\n",
    "```\n",
    "Then double click the file you downloaded."
   ]
  },
  {
   "cell_type": "markdown",
   "metadata": {
    "slideshow": {
     "slide_type": "slide"
    }
   },
   "source": [
    "## Overview\n",
    "\n",
    "- Definitions\n",
    "- Demo\n",
    "- Building a simple command line Application\n",
    "- Building an Application with a GUI (dealing with binary dependencies)"
   ]
  },
  {
   "cell_type": "code",
   "execution_count": null,
   "metadata": {
    "slideshow": {
     "slide_type": "slide"
    }
   },
   "outputs": [],
   "source": [
    "# NOTE: Below are the packages needed to run all of this notebook.\n",
    "# You really need ApplicationBuilder. The rest are optional.\n",
    "Pkg.clone(\"https://github.com/NHDaly/ApplicationBuilder.jl\")  # Necessary for whole notebook\n",
    "Pkg.add(\"PrintFileTree\")  # Not necessary (you can use unix `find` as a decent replacement).\n",
    "Pkg.add(\"UnicodePlots\")  # Only needed for the demo application.\n",
    "Pkg.add(\"Plots\");  # Only needed for the GUI example at the end.\n",
    "Pkg.add(\"Blink\"); using Blink; Blink.AtomShell.install()  # Only needed if you want to run the GUI example at the end."
   ]
  },
  {
   "cell_type": "markdown",
   "metadata": {
    "slideshow": {
     "slide_type": "slide"
    }
   },
   "source": [
    "What is an Application?"
   ]
  },
  {
   "cell_type": "markdown",
   "metadata": {
    "slideshow": {
     "slide_type": "subslide"
    }
   },
   "source": [
    "Julia 0.7 [Pkg docs](https://docs.julialang.org/en/latest/stdlib/Pkg/#Glossary-1):\n",
    "\n",
    "> <u>Application:</u> a project which provides standalone functionality not intended to be reused by other Julia projects."
   ]
  },
  {
   "cell_type": "markdown",
   "metadata": {
    "slideshow": {
     "slide_type": "subslide"
    }
   },
   "source": [
    "What am I talking about when I say \"Application\"?"
   ]
  },
  {
   "cell_type": "markdown",
   "metadata": {
    "slideshow": {
     "slide_type": "fragment"
    }
   },
   "source": [
    "- Provides standalone functionality (same as Julia 0.7 definition)"
   ]
  },
  {
   "cell_type": "markdown",
   "metadata": {
    "slideshow": {
     "slide_type": "fragment"
    }
   },
   "source": [
    "- Distributable"
   ]
  },
  {
   "cell_type": "markdown",
   "metadata": {
    "slideshow": {
     "slide_type": "fragment"
    }
   },
   "source": [
    "- Self-contained (no Julia installation required)"
   ]
  },
  {
   "cell_type": "markdown",
   "metadata": {
    "slideshow": {
     "slide_type": "fragment"
    }
   },
   "source": [
    "- Compiled binary"
   ]
  },
  {
   "cell_type": "markdown",
   "metadata": {
    "slideshow": {
     "slide_type": "slide"
    }
   },
   "source": [
    "### Demo: Paddle Battle\n",
    "\n",
    "![Paddle Battle Clip](https://nhdaly.github.io/assets/images/Paddle-Battle-Clip.gif)\n",
    "\n",
    "An example Application: Paddle Battle is a simple Pong-style game written entirely in Julia using a C graphics library called SDL.\n",
    "https://github.com/NHDaly/PaddleBattleJL<br>\n",
    "[Paddle Battle on Mac App Store](https://itunes.apple.com/us/app/paddle-battle/id1370991412?mt=12)"
   ]
  },
  {
   "cell_type": "markdown",
   "metadata": {
    "slideshow": {
     "slide_type": "subslide"
    }
   },
   "source": [
    "Julia is great for building Applications.\n",
    "\n",
    "<small>First of all, it's fun! Look at me live-editing code in Juno:</small>\n",
    "![Live editing collision handling](https://nhdaly.github.io//assets/images/Paddle-Battle-Juno-live-editing.gif)\n",
    "\n"
   ]
  },
  {
   "cell_type": "markdown",
   "metadata": {
    "slideshow": {
     "slide_type": "subslide"
    }
   },
   "source": [
    "> That's nice... But why do I want to compile my julia program into an Application?"
   ]
  },
  {
   "cell_type": "markdown",
   "metadata": {
    "slideshow": {
     "slide_type": "fragment"
    }
   },
   "source": [
    "&nbsp;&nbsp;&nbsp;&nbsp;&nbsp;&nbsp;&nbsp;&nbsp;&nbsp;&nbsp;&nbsp;&nbsp;&nbsp;&nbsp;&nbsp;&nbsp;&nbsp;&nbsp;&nbsp;&nbsp;&nbsp;&nbsp;&nbsp;&nbsp; To share your work!"
   ]
  },
  {
   "cell_type": "markdown",
   "metadata": {
    "slideshow": {
     "slide_type": "slide"
    }
   },
   "source": [
    "## Making our own App"
   ]
  },
  {
   "cell_type": "code",
   "execution_count": 32,
   "metadata": {
    "slideshow": {
     "slide_type": "subslide"
    }
   },
   "outputs": [
    {
     "name": "stdout",
     "output_type": "stream",
     "text": [
      "/Users/daly/Documents/developer/talks/jupyter/OurProject/OurProject\n"
     ]
    }
   ],
   "source": [
    "mkpath(\"OurProject\"); cd(\"OurProject\")\n",
    "run(`pwd`)"
   ]
  },
  {
   "cell_type": "code",
   "execution_count": 3,
   "metadata": {
    "slideshow": {
     "slide_type": "fragment"
    }
   },
   "outputs": [],
   "source": [
    "mkpath(\"src\")  # For OurProject's source code"
   ]
  },
  {
   "cell_type": "code",
   "execution_count": 4,
   "metadata": {
    "slideshow": {
     "slide_type": "-"
    }
   },
   "outputs": [
    {
     "data": {
      "text/plain": [
       "195"
      ]
     },
     "execution_count": 4,
     "metadata": {},
     "output_type": "execute_result"
    }
   ],
   "source": [
    "write(\"src/project.jl\",\n",
    " \"\"\"\n",
    "    using UnicodePlots\n",
    "\n",
    "    println(\"**** Hello From Julia! ****\")\n",
    "    r = rand(0:2π)\n",
    "    println(lineplot(1:100, sin.(linspace(r, r+2π, 100))))\n",
    "    \n",
    "    println(\"Current working directory:\", pwd())\n",
    " \"\"\"\n",
    ")"
   ]
  },
  {
   "cell_type": "code",
   "execution_count": 6,
   "metadata": {
    "slideshow": {
     "slide_type": "subslide"
    }
   },
   "outputs": [
    {
     "name": "stdout",
     "output_type": "stream",
     "text": [
      "**** Hello From Julia! ****\n",
      "\u001b[37m      ┌────────────────────────────────────────┐\u001b[39m \n",
      "    \u001b[37m1\u001b[39m\u001b[37m │\u001b[39m\u001b[37m⠀\u001b[39m\u001b[37m⠀\u001b[39m\u001b[37m⠀\u001b[39m\u001b[37m⠀\u001b[39m\u001b[37m⠀\u001b[39m\u001b[37m⠀\u001b[39m\u001b[37m⠀\u001b[39m\u001b[34m⡠\u001b[39m\u001b[34m⠊\u001b[39m\u001b[34m⠉\u001b[39m\u001b[34m⠉\u001b[39m\u001b[34m⠉\u001b[39m\u001b[34m⠢\u001b[39m\u001b[34m⡀\u001b[39m\u001b[37m⠀\u001b[39m\u001b[37m⠀\u001b[39m\u001b[37m⠀\u001b[39m\u001b[37m⠀\u001b[39m\u001b[37m⠀\u001b[39m\u001b[37m⠀\u001b[39m\u001b[37m⠀\u001b[39m\u001b[37m⠀\u001b[39m\u001b[37m⠀\u001b[39m\u001b[37m⠀\u001b[39m\u001b[37m⠀\u001b[39m\u001b[37m⠀\u001b[39m\u001b[37m⠀\u001b[39m\u001b[37m⠀\u001b[39m\u001b[37m⠀\u001b[39m\u001b[37m⠀\u001b[39m\u001b[37m⠀\u001b[39m\u001b[37m⠀\u001b[39m\u001b[37m⠀\u001b[39m\u001b[37m⠀\u001b[39m\u001b[37m⠀\u001b[39m\u001b[37m⠀\u001b[39m\u001b[37m⠀\u001b[39m\u001b[37m⠀\u001b[39m\u001b[37m⠀\u001b[39m\u001b[37m⠀\u001b[39m\u001b[37m│\u001b[39m \u001b[37m\u001b[39m\n",
      "     \u001b[37m\u001b[39m\u001b[37m │\u001b[39m\u001b[37m⠀\u001b[39m\u001b[37m⠀\u001b[39m\u001b[37m⠀\u001b[39m\u001b[37m⠀\u001b[39m\u001b[37m⠀\u001b[39m\u001b[34m⢠\u001b[39m\u001b[34m⠎\u001b[39m\u001b[37m⠀\u001b[39m\u001b[37m⠀\u001b[39m\u001b[37m⠀\u001b[39m\u001b[37m⠀\u001b[39m\u001b[37m⠀\u001b[39m\u001b[37m⠀\u001b[39m\u001b[34m⠘\u001b[39m\u001b[34m⢆\u001b[39m\u001b[37m⠀\u001b[39m\u001b[37m⠀\u001b[39m\u001b[37m⠀\u001b[39m\u001b[37m⠀\u001b[39m\u001b[37m⠀\u001b[39m\u001b[37m⠀\u001b[39m\u001b[37m⠀\u001b[39m\u001b[37m⠀\u001b[39m\u001b[37m⠀\u001b[39m\u001b[37m⠀\u001b[39m\u001b[37m⠀\u001b[39m\u001b[37m⠀\u001b[39m\u001b[37m⠀\u001b[39m\u001b[37m⠀\u001b[39m\u001b[37m⠀\u001b[39m\u001b[37m⠀\u001b[39m\u001b[37m⠀\u001b[39m\u001b[37m⠀\u001b[39m\u001b[37m⠀\u001b[39m\u001b[37m⠀\u001b[39m\u001b[37m⠀\u001b[39m\u001b[37m⠀\u001b[39m\u001b[37m⠀\u001b[39m\u001b[37m⠀\u001b[39m\u001b[37m⠀\u001b[39m\u001b[37m│\u001b[39m \u001b[37m\u001b[39m\n",
      "     \u001b[37m\u001b[39m\u001b[37m │\u001b[39m\u001b[37m⠀\u001b[39m\u001b[37m⠀\u001b[39m\u001b[37m⠀\u001b[39m\u001b[37m⠀\u001b[39m\u001b[34m⢠\u001b[39m\u001b[34m⠃\u001b[39m\u001b[37m⠀\u001b[39m\u001b[37m⠀\u001b[39m\u001b[37m⠀\u001b[39m\u001b[37m⠀\u001b[39m\u001b[37m⠀\u001b[39m\u001b[37m⠀\u001b[39m\u001b[37m⠀\u001b[39m\u001b[37m⠀\u001b[39m\u001b[37m⠀\u001b[39m\u001b[34m⠳\u001b[39m\u001b[34m⡀\u001b[39m\u001b[37m⠀\u001b[39m\u001b[37m⠀\u001b[39m\u001b[37m⠀\u001b[39m\u001b[37m⠀\u001b[39m\u001b[37m⠀\u001b[39m\u001b[37m⠀\u001b[39m\u001b[37m⠀\u001b[39m\u001b[37m⠀\u001b[39m\u001b[37m⠀\u001b[39m\u001b[37m⠀\u001b[39m\u001b[37m⠀\u001b[39m\u001b[37m⠀\u001b[39m\u001b[37m⠀\u001b[39m\u001b[37m⠀\u001b[39m\u001b[37m⠀\u001b[39m\u001b[37m⠀\u001b[39m\u001b[37m⠀\u001b[39m\u001b[37m⠀\u001b[39m\u001b[37m⠀\u001b[39m\u001b[37m⠀\u001b[39m\u001b[37m⠀\u001b[39m\u001b[37m⠀\u001b[39m\u001b[37m⠀\u001b[39m\u001b[37m│\u001b[39m \u001b[37m\u001b[39m\n",
      "     \u001b[37m\u001b[39m\u001b[37m │\u001b[39m\u001b[37m⠀\u001b[39m\u001b[37m⠀\u001b[39m\u001b[37m⠀\u001b[39m\u001b[34m⢠\u001b[39m\u001b[34m⠃\u001b[39m\u001b[37m⠀\u001b[39m\u001b[37m⠀\u001b[39m\u001b[37m⠀\u001b[39m\u001b[37m⠀\u001b[39m\u001b[37m⠀\u001b[39m\u001b[37m⠀\u001b[39m\u001b[37m⠀\u001b[39m\u001b[37m⠀\u001b[39m\u001b[37m⠀\u001b[39m\u001b[37m⠀\u001b[39m\u001b[37m⠀\u001b[39m\u001b[34m⠱\u001b[39m\u001b[34m⡀\u001b[39m\u001b[37m⠀\u001b[39m\u001b[37m⠀\u001b[39m\u001b[37m⠀\u001b[39m\u001b[37m⠀\u001b[39m\u001b[37m⠀\u001b[39m\u001b[37m⠀\u001b[39m\u001b[37m⠀\u001b[39m\u001b[37m⠀\u001b[39m\u001b[37m⠀\u001b[39m\u001b[37m⠀\u001b[39m\u001b[37m⠀\u001b[39m\u001b[37m⠀\u001b[39m\u001b[37m⠀\u001b[39m\u001b[37m⠀\u001b[39m\u001b[37m⠀\u001b[39m\u001b[37m⠀\u001b[39m\u001b[37m⠀\u001b[39m\u001b[37m⠀\u001b[39m\u001b[37m⠀\u001b[39m\u001b[37m⠀\u001b[39m\u001b[37m⠀\u001b[39m\u001b[37m⠀\u001b[39m\u001b[37m│\u001b[39m \u001b[37m\u001b[39m\n",
      "     \u001b[37m\u001b[39m\u001b[37m │\u001b[39m\u001b[37m⠀\u001b[39m\u001b[37m⠀\u001b[39m\u001b[34m⢠\u001b[39m\u001b[34m⠃\u001b[39m\u001b[37m⠀\u001b[39m\u001b[37m⠀\u001b[39m\u001b[37m⠀\u001b[39m\u001b[37m⠀\u001b[39m\u001b[37m⠀\u001b[39m\u001b[37m⠀\u001b[39m\u001b[37m⠀\u001b[39m\u001b[37m⠀\u001b[39m\u001b[37m⠀\u001b[39m\u001b[37m⠀\u001b[39m\u001b[37m⠀\u001b[39m\u001b[37m⠀\u001b[39m\u001b[37m⠀\u001b[39m\u001b[34m⠳\u001b[39m\u001b[34m⡀\u001b[39m\u001b[37m⠀\u001b[39m\u001b[37m⠀\u001b[39m\u001b[37m⠀\u001b[39m\u001b[37m⠀\u001b[39m\u001b[37m⠀\u001b[39m\u001b[37m⠀\u001b[39m\u001b[37m⠀\u001b[39m\u001b[37m⠀\u001b[39m\u001b[37m⠀\u001b[39m\u001b[37m⠀\u001b[39m\u001b[37m⠀\u001b[39m\u001b[37m⠀\u001b[39m\u001b[37m⠀\u001b[39m\u001b[37m⠀\u001b[39m\u001b[37m⠀\u001b[39m\u001b[37m⠀\u001b[39m\u001b[37m⠀\u001b[39m\u001b[37m⠀\u001b[39m\u001b[37m⠀\u001b[39m\u001b[37m⠀\u001b[39m\u001b[37m⠀\u001b[39m\u001b[37m│\u001b[39m \u001b[37m\u001b[39m\n",
      "     \u001b[37m\u001b[39m\u001b[37m │\u001b[39m\u001b[37m⠀\u001b[39m\u001b[34m⢀\u001b[39m\u001b[34m⠇\u001b[39m\u001b[37m⠀\u001b[39m\u001b[37m⠀\u001b[39m\u001b[37m⠀\u001b[39m\u001b[37m⠀\u001b[39m\u001b[37m⠀\u001b[39m\u001b[37m⠀\u001b[39m\u001b[37m⠀\u001b[39m\u001b[37m⠀\u001b[39m\u001b[37m⠀\u001b[39m\u001b[37m⠀\u001b[39m\u001b[37m⠀\u001b[39m\u001b[37m⠀\u001b[39m\u001b[37m⠀\u001b[39m\u001b[37m⠀\u001b[39m\u001b[37m⠀\u001b[39m\u001b[34m⢣\u001b[39m\u001b[37m⠀\u001b[39m\u001b[37m⠀\u001b[39m\u001b[37m⠀\u001b[39m\u001b[37m⠀\u001b[39m\u001b[37m⠀\u001b[39m\u001b[37m⠀\u001b[39m\u001b[37m⠀\u001b[39m\u001b[37m⠀\u001b[39m\u001b[37m⠀\u001b[39m\u001b[37m⠀\u001b[39m\u001b[37m⠀\u001b[39m\u001b[37m⠀\u001b[39m\u001b[37m⠀\u001b[39m\u001b[37m⠀\u001b[39m\u001b[37m⠀\u001b[39m\u001b[37m⠀\u001b[39m\u001b[37m⠀\u001b[39m\u001b[37m⠀\u001b[39m\u001b[37m⠀\u001b[39m\u001b[37m⠀\u001b[39m\u001b[37m⠀\u001b[39m\u001b[37m│\u001b[39m \u001b[37m\u001b[39m\n",
      "     \u001b[37m\u001b[39m\u001b[37m │\u001b[39m\u001b[37m⠀\u001b[39m\u001b[34m⡎\u001b[39m\u001b[37m⠀\u001b[39m\u001b[37m⠀\u001b[39m\u001b[37m⠀\u001b[39m\u001b[37m⠀\u001b[39m\u001b[37m⠀\u001b[39m\u001b[37m⠀\u001b[39m\u001b[37m⠀\u001b[39m\u001b[37m⠀\u001b[39m\u001b[37m⠀\u001b[39m\u001b[37m⠀\u001b[39m\u001b[37m⠀\u001b[39m\u001b[37m⠀\u001b[39m\u001b[37m⠀\u001b[39m\u001b[37m⠀\u001b[39m\u001b[37m⠀\u001b[39m\u001b[37m⠀\u001b[39m\u001b[37m⠀\u001b[39m\u001b[34m⢇\u001b[39m\u001b[37m⠀\u001b[39m\u001b[37m⠀\u001b[39m\u001b[37m⠀\u001b[39m\u001b[37m⠀\u001b[39m\u001b[37m⠀\u001b[39m\u001b[37m⠀\u001b[39m\u001b[37m⠀\u001b[39m\u001b[37m⠀\u001b[39m\u001b[37m⠀\u001b[39m\u001b[37m⠀\u001b[39m\u001b[37m⠀\u001b[39m\u001b[37m⠀\u001b[39m\u001b[37m⠀\u001b[39m\u001b[37m⠀\u001b[39m\u001b[37m⠀\u001b[39m\u001b[37m⠀\u001b[39m\u001b[37m⠀\u001b[39m\u001b[37m⠀\u001b[39m\u001b[37m⠀\u001b[39m\u001b[37m⠀\u001b[39m\u001b[37m│\u001b[39m \u001b[37m\u001b[39m\n",
      "   \u001b[37m\u001b[39m  \u001b[37m\u001b[39m\u001b[37m │\u001b[39m\u001b[34m⠼\u001b[39m\u001b[37m⠤\u001b[39m\u001b[37m⠤\u001b[39m\u001b[37m⠤\u001b[39m\u001b[37m⠤\u001b[39m\u001b[37m⠤\u001b[39m\u001b[37m⠤\u001b[39m\u001b[37m⠤\u001b[39m\u001b[37m⠤\u001b[39m\u001b[37m⠤\u001b[39m\u001b[37m⠤\u001b[39m\u001b[37m⠤\u001b[39m\u001b[37m⠤\u001b[39m\u001b[37m⠤\u001b[39m\u001b[37m⠤\u001b[39m\u001b[37m⠤\u001b[39m\u001b[37m⠤\u001b[39m\u001b[37m⠤\u001b[39m\u001b[37m⠤\u001b[39m\u001b[34m⠬\u001b[39m\u001b[34m⢦\u001b[39m\u001b[37m⠤\u001b[39m\u001b[37m⠤\u001b[39m\u001b[37m⠤\u001b[39m\u001b[37m⠤\u001b[39m\u001b[37m⠤\u001b[39m\u001b[37m⠤\u001b[39m\u001b[37m⠤\u001b[39m\u001b[37m⠤\u001b[39m\u001b[37m⠤\u001b[39m\u001b[37m⠤\u001b[39m\u001b[37m⠤\u001b[39m\u001b[37m⠤\u001b[39m\u001b[37m⠤\u001b[39m\u001b[37m⠤\u001b[39m\u001b[37m⠤\u001b[39m\u001b[37m⠤\u001b[39m\u001b[37m⠤\u001b[39m\u001b[37m⠤\u001b[39m\u001b[34m⢤\u001b[39m\u001b[37m│\u001b[39m \u001b[37m\u001b[39m\n",
      "     \u001b[37m\u001b[39m\u001b[37m │\u001b[39m\u001b[37m⠀\u001b[39m\u001b[37m⠀\u001b[39m\u001b[37m⠀\u001b[39m\u001b[37m⠀\u001b[39m\u001b[37m⠀\u001b[39m\u001b[37m⠀\u001b[39m\u001b[37m⠀\u001b[39m\u001b[37m⠀\u001b[39m\u001b[37m⠀\u001b[39m\u001b[37m⠀\u001b[39m\u001b[37m⠀\u001b[39m\u001b[37m⠀\u001b[39m\u001b[37m⠀\u001b[39m\u001b[37m⠀\u001b[39m\u001b[37m⠀\u001b[39m\u001b[37m⠀\u001b[39m\u001b[37m⠀\u001b[39m\u001b[37m⠀\u001b[39m\u001b[37m⠀\u001b[39m\u001b[37m⠀\u001b[39m\u001b[34m⠈\u001b[39m\u001b[34m⡆\u001b[39m\u001b[37m⠀\u001b[39m\u001b[37m⠀\u001b[39m\u001b[37m⠀\u001b[39m\u001b[37m⠀\u001b[39m\u001b[37m⠀\u001b[39m\u001b[37m⠀\u001b[39m\u001b[37m⠀\u001b[39m\u001b[37m⠀\u001b[39m\u001b[37m⠀\u001b[39m\u001b[37m⠀\u001b[39m\u001b[37m⠀\u001b[39m\u001b[37m⠀\u001b[39m\u001b[37m⠀\u001b[39m\u001b[37m⠀\u001b[39m\u001b[37m⠀\u001b[39m\u001b[37m⠀\u001b[39m\u001b[34m⢀\u001b[39m\u001b[34m⠇\u001b[39m\u001b[37m│\u001b[39m \u001b[37m\u001b[39m\n",
      "     \u001b[37m\u001b[39m\u001b[37m │\u001b[39m\u001b[37m⠀\u001b[39m\u001b[37m⠀\u001b[39m\u001b[37m⠀\u001b[39m\u001b[37m⠀\u001b[39m\u001b[37m⠀\u001b[39m\u001b[37m⠀\u001b[39m\u001b[37m⠀\u001b[39m\u001b[37m⠀\u001b[39m\u001b[37m⠀\u001b[39m\u001b[37m⠀\u001b[39m\u001b[37m⠀\u001b[39m\u001b[37m⠀\u001b[39m\u001b[37m⠀\u001b[39m\u001b[37m⠀\u001b[39m\u001b[37m⠀\u001b[39m\u001b[37m⠀\u001b[39m\u001b[37m⠀\u001b[39m\u001b[37m⠀\u001b[39m\u001b[37m⠀\u001b[39m\u001b[37m⠀\u001b[39m\u001b[37m⠀\u001b[39m\u001b[34m⠘\u001b[39m\u001b[34m⡄\u001b[39m\u001b[37m⠀\u001b[39m\u001b[37m⠀\u001b[39m\u001b[37m⠀\u001b[39m\u001b[37m⠀\u001b[39m\u001b[37m⠀\u001b[39m\u001b[37m⠀\u001b[39m\u001b[37m⠀\u001b[39m\u001b[37m⠀\u001b[39m\u001b[37m⠀\u001b[39m\u001b[37m⠀\u001b[39m\u001b[37m⠀\u001b[39m\u001b[37m⠀\u001b[39m\u001b[37m⠀\u001b[39m\u001b[37m⠀\u001b[39m\u001b[37m⠀\u001b[39m\u001b[34m⡎\u001b[39m\u001b[37m⠀\u001b[39m\u001b[37m│\u001b[39m \u001b[37m\u001b[39m\n",
      "     \u001b[37m\u001b[39m\u001b[37m │\u001b[39m\u001b[37m⠀\u001b[39m\u001b[37m⠀\u001b[39m\u001b[37m⠀\u001b[39m\u001b[37m⠀\u001b[39m\u001b[37m⠀\u001b[39m\u001b[37m⠀\u001b[39m\u001b[37m⠀\u001b[39m\u001b[37m⠀\u001b[39m\u001b[37m⠀\u001b[39m\u001b[37m⠀\u001b[39m\u001b[37m⠀\u001b[39m\u001b[37m⠀\u001b[39m\u001b[37m⠀\u001b[39m\u001b[37m⠀\u001b[39m\u001b[37m⠀\u001b[39m\u001b[37m⠀\u001b[39m\u001b[37m⠀\u001b[39m\u001b[37m⠀\u001b[39m\u001b[37m⠀\u001b[39m\u001b[37m⠀\u001b[39m\u001b[37m⠀\u001b[39m\u001b[37m⠀\u001b[39m\u001b[34m⠱\u001b[39m\u001b[34m⡀\u001b[39m\u001b[37m⠀\u001b[39m\u001b[37m⠀\u001b[39m\u001b[37m⠀\u001b[39m\u001b[37m⠀\u001b[39m\u001b[37m⠀\u001b[39m\u001b[37m⠀\u001b[39m\u001b[37m⠀\u001b[39m\u001b[37m⠀\u001b[39m\u001b[37m⠀\u001b[39m\u001b[37m⠀\u001b[39m\u001b[37m⠀\u001b[39m\u001b[37m⠀\u001b[39m\u001b[37m⠀\u001b[39m\u001b[34m⡞\u001b[39m\u001b[37m⠀\u001b[39m\u001b[37m⠀\u001b[39m\u001b[37m│\u001b[39m \u001b[37m\u001b[39m\n",
      "     \u001b[37m\u001b[39m\u001b[37m │\u001b[39m\u001b[37m⠀\u001b[39m\u001b[37m⠀\u001b[39m\u001b[37m⠀\u001b[39m\u001b[37m⠀\u001b[39m\u001b[37m⠀\u001b[39m\u001b[37m⠀\u001b[39m\u001b[37m⠀\u001b[39m\u001b[37m⠀\u001b[39m\u001b[37m⠀\u001b[39m\u001b[37m⠀\u001b[39m\u001b[37m⠀\u001b[39m\u001b[37m⠀\u001b[39m\u001b[37m⠀\u001b[39m\u001b[37m⠀\u001b[39m\u001b[37m⠀\u001b[39m\u001b[37m⠀\u001b[39m\u001b[37m⠀\u001b[39m\u001b[37m⠀\u001b[39m\u001b[37m⠀\u001b[39m\u001b[37m⠀\u001b[39m\u001b[37m⠀\u001b[39m\u001b[37m⠀\u001b[39m\u001b[37m⠀\u001b[39m\u001b[34m⠱\u001b[39m\u001b[34m⡀\u001b[39m\u001b[37m⠀\u001b[39m\u001b[37m⠀\u001b[39m\u001b[37m⠀\u001b[39m\u001b[37m⠀\u001b[39m\u001b[37m⠀\u001b[39m\u001b[37m⠀\u001b[39m\u001b[37m⠀\u001b[39m\u001b[37m⠀\u001b[39m\u001b[37m⠀\u001b[39m\u001b[37m⠀\u001b[39m\u001b[37m⠀\u001b[39m\u001b[34m⡜\u001b[39m\u001b[37m⠀\u001b[39m\u001b[37m⠀\u001b[39m\u001b[37m⠀\u001b[39m\u001b[37m│\u001b[39m \u001b[37m\u001b[39m\n",
      "     \u001b[37m\u001b[39m\u001b[37m │\u001b[39m\u001b[37m⠀\u001b[39m\u001b[37m⠀\u001b[39m\u001b[37m⠀\u001b[39m\u001b[37m⠀\u001b[39m\u001b[37m⠀\u001b[39m\u001b[37m⠀\u001b[39m\u001b[37m⠀\u001b[39m\u001b[37m⠀\u001b[39m\u001b[37m⠀\u001b[39m\u001b[37m⠀\u001b[39m\u001b[37m⠀\u001b[39m\u001b[37m⠀\u001b[39m\u001b[37m⠀\u001b[39m\u001b[37m⠀\u001b[39m\u001b[37m⠀\u001b[39m\u001b[37m⠀\u001b[39m\u001b[37m⠀\u001b[39m\u001b[37m⠀\u001b[39m\u001b[37m⠀\u001b[39m\u001b[37m⠀\u001b[39m\u001b[37m⠀\u001b[39m\u001b[37m⠀\u001b[39m\u001b[37m⠀\u001b[39m\u001b[37m⠀\u001b[39m\u001b[34m⠱\u001b[39m\u001b[34m⡀\u001b[39m\u001b[37m⠀\u001b[39m\u001b[37m⠀\u001b[39m\u001b[37m⠀\u001b[39m\u001b[37m⠀\u001b[39m\u001b[37m⠀\u001b[39m\u001b[37m⠀\u001b[39m\u001b[37m⠀\u001b[39m\u001b[37m⠀\u001b[39m\u001b[37m⠀\u001b[39m\u001b[34m⡞\u001b[39m\u001b[37m⠀\u001b[39m\u001b[37m⠀\u001b[39m\u001b[37m⠀\u001b[39m\u001b[37m⠀\u001b[39m\u001b[37m│\u001b[39m \u001b[37m\u001b[39m\n",
      "     \u001b[37m\u001b[39m\u001b[37m │\u001b[39m\u001b[37m⠀\u001b[39m\u001b[37m⠀\u001b[39m\u001b[37m⠀\u001b[39m\u001b[37m⠀\u001b[39m\u001b[37m⠀\u001b[39m\u001b[37m⠀\u001b[39m\u001b[37m⠀\u001b[39m\u001b[37m⠀\u001b[39m\u001b[37m⠀\u001b[39m\u001b[37m⠀\u001b[39m\u001b[37m⠀\u001b[39m\u001b[37m⠀\u001b[39m\u001b[37m⠀\u001b[39m\u001b[37m⠀\u001b[39m\u001b[37m⠀\u001b[39m\u001b[37m⠀\u001b[39m\u001b[37m⠀\u001b[39m\u001b[37m⠀\u001b[39m\u001b[37m⠀\u001b[39m\u001b[37m⠀\u001b[39m\u001b[37m⠀\u001b[39m\u001b[37m⠀\u001b[39m\u001b[37m⠀\u001b[39m\u001b[37m⠀\u001b[39m\u001b[37m⠀\u001b[39m\u001b[34m⠘\u001b[39m\u001b[34m⢆\u001b[39m\u001b[37m⠀\u001b[39m\u001b[37m⠀\u001b[39m\u001b[37m⠀\u001b[39m\u001b[37m⠀\u001b[39m\u001b[37m⠀\u001b[39m\u001b[37m⠀\u001b[39m\u001b[34m⢠\u001b[39m\u001b[34m⠎\u001b[39m\u001b[37m⠀\u001b[39m\u001b[37m⠀\u001b[39m\u001b[37m⠀\u001b[39m\u001b[37m⠀\u001b[39m\u001b[37m⠀\u001b[39m\u001b[37m│\u001b[39m \u001b[37m\u001b[39m\n",
      "   \u001b[37m-1\u001b[39m\u001b[37m │\u001b[39m\u001b[37m⠀\u001b[39m\u001b[37m⠀\u001b[39m\u001b[37m⠀\u001b[39m\u001b[37m⠀\u001b[39m\u001b[37m⠀\u001b[39m\u001b[37m⠀\u001b[39m\u001b[37m⠀\u001b[39m\u001b[37m⠀\u001b[39m\u001b[37m⠀\u001b[39m\u001b[37m⠀\u001b[39m\u001b[37m⠀\u001b[39m\u001b[37m⠀\u001b[39m\u001b[37m⠀\u001b[39m\u001b[37m⠀\u001b[39m\u001b[37m⠀\u001b[39m\u001b[37m⠀\u001b[39m\u001b[37m⠀\u001b[39m\u001b[37m⠀\u001b[39m\u001b[37m⠀\u001b[39m\u001b[37m⠀\u001b[39m\u001b[37m⠀\u001b[39m\u001b[37m⠀\u001b[39m\u001b[37m⠀\u001b[39m\u001b[37m⠀\u001b[39m\u001b[37m⠀\u001b[39m\u001b[37m⠀\u001b[39m\u001b[37m⠀\u001b[39m\u001b[34m⠑\u001b[39m\u001b[34m⢄\u001b[39m\u001b[34m⣀\u001b[39m\u001b[34m⣀\u001b[39m\u001b[34m⣀\u001b[39m\u001b[34m⠔\u001b[39m\u001b[34m⠁\u001b[39m\u001b[37m⠀\u001b[39m\u001b[37m⠀\u001b[39m\u001b[37m⠀\u001b[39m\u001b[37m⠀\u001b[39m\u001b[37m⠀\u001b[39m\u001b[37m⠀\u001b[39m\u001b[37m│\u001b[39m \u001b[37m\u001b[39m\n",
      "\u001b[37m      └────────────────────────────────────────┘\u001b[39m \n",
      "\u001b[37m      0\u001b[39m\u001b[37m                   \u001b[39m\u001b[37m                   100\n",
      "\u001b[39m\n",
      "Current working directory:/Users/daly/Documents/developer/talks/jupyter/OurProject\n"
     ]
    }
   ],
   "source": [
    "include(\"src/project.jl\")"
   ]
  },
  {
   "cell_type": "markdown",
   "metadata": {
    "slideshow": {
     "slide_type": "slide"
    }
   },
   "source": [
    "## ~~ ApplicationBuilder.jl ~~"
   ]
  },
  {
   "cell_type": "code",
   "execution_count": 7,
   "metadata": {
    "slideshow": {
     "slide_type": "subslide"
    }
   },
   "outputs": [
    {
     "name": "stderr",
     "output_type": "stream",
     "text": [
      "\u001b[1m\u001b[33mWARNING: \u001b[39m\u001b[22m\u001b[33mYour Julia system image is not compiled natively for this CPU architecture.\n",
      "        Please run `PackageCompiler.force_native_image!()` for optimal Julia performance\u001b[39m\n"
     ]
    }
   ],
   "source": [
    " using ApplicationBuilder; using BuildApp  # BuildApp was installed automatically, \"next to\" ApplicationBuilder."
   ]
  },
  {
   "cell_type": "markdown",
   "metadata": {
    "slideshow": {
     "slide_type": "fragment"
    }
   },
   "source": [
    "### What does “compiling” mean? What's it doing?"
   ]
  },
  {
   "cell_type": "markdown",
   "metadata": {
    "slideshow": {
     "slide_type": "fragment"
    }
   },
   "source": [
    "- [PackageCompiler.jl](https://github.com/JuliaLang/PackageCompiler.jl) compiles your julia program to a binary.\n",
    "  - `julia -Cx86-64 --compile=yes`<br>`--depwarn=yes --precompiled=no`<br>`--compilecache=no --output-o`...\n",
    "- Remember: Julia is a compiled language with an interpreter, not the other way around."
   ]
  },
  {
   "cell_type": "markdown",
   "metadata": {
    "slideshow": {
     "slide_type": "fragment"
    }
   },
   "source": [
    "\n",
    "This creates an \"object file\", which contains all the compiled functions from your code plus all the rest of the julia standard library. \n",
    "\n",
    "And finally, `PackageCompiler` then links that into a shared library, and ultimately creates an executable.\n",
    "\n",
    "So much work was done here by:\n",
    "<div class=\"row\" style=\"display: flex; padding: 20px;\">\n",
    "  <div class=\"column\" style=\"float: left; width: 35%;\">\n",
    "\n",
    "- SimonDanisch\n",
    "- lucatrv\n",
    "- vtjnash\n",
    "  </div><div class=\"column\" style=\"float: left; width: 65%;\">\n",
    "\n",
    "\n",
    "- timholy\n",
    "- ViralBShah\n",
    "- ... and [many more](https://github.com/JuliaLang/PackageCompiler.jl/graphs/contributors)\n",
    "\n",
    "</div>\n",
    "</div>\n",
    "\n",
    "THANKS!"
   ]
  },
  {
   "cell_type": "code",
   "execution_count": 8,
   "metadata": {
    "scrolled": false,
    "slideshow": {
     "slide_type": "subslide"
    }
   },
   "outputs": [
    {
     "name": "stdout",
     "output_type": "stream",
     "text": [
      "  Using calculated bundle_identifier: 'com.daly.project'\n",
      "~~~~~~ Creating mac app in \"/Users/daly/Documents/developer/talks/jupyter/OurProject/builddir/project.app\" ~~~~~~~\n",
      "~~~~~~ Compiling a binary from 'src/project.jl'... ~~~~~~~\n",
      "Julia program file:\n",
      "  \"/Users/daly/Documents/developer/talks/jupyter/OurProject/src/project.jl\"\n",
      "C program file:\n",
      "  \"/Users/daly/.julia/v0.6/ApplicationBuilder/src/program.c\"\n",
      "Build directory:\n",
      "  \"/Users/daly/Documents/developer/talks/jupyter/OurProject/builddir/project.app/Contents/MacOS\"\n",
      "**** Hello From Julia! ****\n",
      "      ┌────────────────────────────────────────┐ \n",
      "    1 │⠀⠀⠀⠀⠀⠀⠀⠀⢀⡠⠊⠉⠉⠉⠦⡀⠀⠀⠀⠀⠀⠀⠀⠀⠀⠀⠀⠀⠀⠀⠀⠀⠀⠀⠀⠀⠀⠀⠀⠀│ \n",
      "      │⠀⠀⠀⠀⠀⠀⠀⢠⠇⠀⠀⠀⠀⠀⠀⠘⢆⠀⠀⠀⠀⠀⠀⠀⠀⠀⠀⠀⠀⠀⠀⠀⠀⠀⠀⠀⠀⠀⠀⠀│ \n",
      "      │⠀⠀⠀⠀⠀⠀⡰⠁⠀⠀⠀⠀⠀⠀⠀⠀⠈⢦⠀⠀⠀⠀⠀⠀⠀⠀⠀⠀⠀⠀⠀⠀⠀⠀⠀⠀⠀⠀⠀⠀│ \n",
      "      │⠀⠀⠀⠀⠀⡰⠁⠀⠀⠀⠀⠀⠀⠀⠀⠀⠀⠀⢣⠀⠀⠀⠀⠀⠀⠀⠀⠀⠀⠀⠀⠀⠀⠀⠀⠀⠀⠀⠀⠀│ \n",
      "      │⠀⠀⠀⠀⡰⠁⠀⠀⠀⠀⠀⠀⠀⠀⠀⠀⠀⠀⠀⢧⠀⠀⠀⠀⠀⠀⠀⠀⠀⠀⠀⠀⠀⠀⠀⠀⠀⠀⠀⠀│ \n",
      "      │⠀⠀⠀⢠⠃⠀⠀⠀⠀⠀⠀⠀⠀⠀⠀⠀⠀⠀⠀⠀⢇⠀⠀⠀⠀⠀⠀⠀⠀⠀⠀⠀⠀⠀⠀⠀⠀⠀⠀⠀│ \n",
      "      │⠀⠀⢀⠇⠀⠀⠀⠀⠀⠀⠀⠀⠀⠀⠀⠀⠀⠀⠀⠀⠈⡆⠀⠀⠀⠀⠀⠀⠀⠀⠀⠀⠀⠀⠀⠀⠀⠀⠀⠀│ \n",
      "      │⠤⢤⠧⠤⠤⠤⠤⠤⠤⠤⠤⠤⠤⠤⠤⠤⠤⠤⠤⠤⠤⠼⡤⠤⠤⠤⠤⠤⠤⠤⠤⠤⠤⠤⠤⠤⠤⠤⠤⠄│ \n",
      "      │⠀⡎⠀⠀⠀⠀⠀⠀⠀⠀⠀⠀⠀⠀⠀⠀⠀⠀⠀⠀⠀⠀⠘⡄⠀⠀⠀⠀⠀⠀⠀⠀⠀⠀⠀⠀⠀⠀⠀⠀│ \n",
      "      │⠜⠀⠀⠀⠀⠀⠀⠀⠀⠀⠀⠀⠀⠀⠀⠀⠀⠀⠀⠀⠀⠀⠀⠱⡀⠀⠀⠀⠀⠀⠀⠀⠀⠀⠀⠀⠀⠀⠀⢀│ \n",
      "      │⠀⠀⠀⠀⠀⠀⠀⠀⠀⠀⠀⠀⠀⠀⠀⠀⠀⠀⠀⠀⠀⠀⠀⠀⠣⡀⠀⠀⠀⠀⠀⠀⠀⠀⠀⠀⠀⠀⢀⠏│ \n",
      "      │⠀⠀⠀⠀⠀⠀⠀⠀⠀⠀⠀⠀⠀⠀⠀⠀⠀⠀⠀⠀⠀⠀⠀⠀⠀⢣⡀⠀⠀⠀⠀⠀⠀⠀⠀⠀⠀⢀⠎⠀│ \n",
      "      │⠀⠀⠀⠀⠀⠀⠀⠀⠀⠀⠀⠀⠀⠀⠀⠀⠀⠀⠀⠀⠀⠀⠀⠀⠀⠀⠣⡀⠀⠀⠀⠀⠀⠀⠀⠀⢀⠏⠀⠀│ \n",
      "      │⠀⠀⠀⠀⠀⠀⠀⠀⠀⠀⠀⠀⠀⠀⠀⠀⠀⠀⠀⠀⠀⠀⠀⠀⠀⠀⠀⠱⡄⠀⠀⠀⠀⠀⠀⡰⠃⠀⠀⠀│ \n",
      "   -1 │⠀⠀⠀⠀⠀⠀⠀⠀⠀⠀⠀⠀⠀⠀⠀⠀⠀⠀⠀⠀⠀⠀⠀⠀⠀⠀⠀⠀⠈⠢⣄⣀⣀⡠⠎⠀⠀⠀⠀⠀│ \n",
      "      └────────────────────────────────────────┘ \n",
      "      0                                      100\n",
      "\n",
      "Current working directory:/Users/daly/Documents/developer/talks/jupyter/OurProject/builddir/project.app/Contents/MacOS\n"
     ]
    },
    {
     "ename": "LoadError",
     "evalue": "\u001b[91mfailed process: Process(`cc '-DJULIAC_PROGRAM_LIBNAME=\"project.dylib\"' -o project /Users/daly/.julia/v0.6/ApplicationBuilder/src/program.c project.dylib -std=gnu99 -I/Applications/Julia-0.6.app/Contents/Resources/julia/include/julia -DJULIA_ENABLE_THREADING=1 -fPIC -L/Applications/Julia-0.6.app/Contents/Resources/julia/lib -Wl,-rpath,/Applications/Julia-0.6.app/Contents/Resources/julia/lib -Wl,-rpath,/Applications/Julia-0.6.app/Contents/Resources/julia/lib/julia -ljulia -m64 -O3 -mmacosx-version-min=10.10 -headerpad_max_install_names -Wl,-rpath,@executable_path`, ProcessExited(1)) [1]\u001b[39m",
     "output_type": "error",
     "traceback": [
      "\u001b[91mfailed process: Process(`cc '-DJULIAC_PROGRAM_LIBNAME=\"project.dylib\"' -o project /Users/daly/.julia/v0.6/ApplicationBuilder/src/program.c project.dylib -std=gnu99 -I/Applications/Julia-0.6.app/Contents/Resources/julia/include/julia -DJULIA_ENABLE_THREADING=1 -fPIC -L/Applications/Julia-0.6.app/Contents/Resources/julia/lib -Wl,-rpath,/Applications/Julia-0.6.app/Contents/Resources/julia/lib -Wl,-rpath,/Applications/Julia-0.6.app/Contents/Resources/julia/lib/julia -ljulia -m64 -O3 -mmacosx-version-min=10.10 -headerpad_max_install_names -Wl,-rpath,@executable_path`, ProcessExited(1)) [1]\u001b[39m",
      "",
      "Stacktrace:",
      " [1] \u001b[1mpipeline_error\u001b[22m\u001b[22m\u001b[1m(\u001b[22m\u001b[22m::Base.Process\u001b[1m)\u001b[22m\u001b[22m at \u001b[1m./process.jl:682\u001b[22m\u001b[22m",
      " [2] \u001b[1mrun\u001b[22m\u001b[22m\u001b[1m(\u001b[22m\u001b[22m::Cmd\u001b[1m)\u001b[22m\u001b[22m at \u001b[1m./process.jl:651\u001b[22m\u001b[22m",
      " [3] \u001b[1mcd\u001b[22m\u001b[22m\u001b[1m(\u001b[22m\u001b[22m::PackageCompiler.##10#11, ::String\u001b[1m)\u001b[22m\u001b[22m at \u001b[1m./file.jl:70\u001b[22m\u001b[22m",
      " [4] \u001b[1mbuild_exec\u001b[22m\u001b[22m\u001b[1m(\u001b[22m\u001b[22m::String, ::String, ::String, ::String, ::Bool, ::String, ::String, ::String, ::Cmd\u001b[1m)\u001b[22m\u001b[22m at \u001b[1m/Users/daly/.julia/v0.6/PackageCompiler/src/static_julia.jl:295\u001b[22m\u001b[22m",
      " [5] \u001b[1m#static_julia#1\u001b[22m\u001b[22m\u001b[1m(\u001b[22m\u001b[22m::String, ::Bool, ::Bool, ::String, ::Void, ::Void, ::Bool, ::Bool, ::Bool, ::Bool, ::Bool, ::Bool, ::Bool, ::Void, ::Bool, ::Bool, ::Void, ::Void, ::Void, ::Void, ::Void, ::Void, ::Void, ::String, ::String, ::String, ::Void, ::Void, ::Void, ::Void, ::Void, ::Cmd, ::PackageCompiler.#static_julia, ::String\u001b[1m)\u001b[22m\u001b[22m at \u001b[1m/Users/daly/.julia/v0.6/PackageCompiler/src/static_julia.jl:160\u001b[22m\u001b[22m",
      " [6] \u001b[1m(::PackageCompiler.#kw##static_julia)\u001b[22m\u001b[22m\u001b[1m(\u001b[22m\u001b[22m::Array{Any,1}, ::PackageCompiler.#static_julia, ::String\u001b[1m)\u001b[22m\u001b[22m at \u001b[1m./<missing>:0\u001b[22m\u001b[22m",
      " [7] \u001b[1m(::BuildApp.##2#7{Bool,String})\u001b[22m\u001b[22m\u001b[1m(\u001b[22m\u001b[22m\u001b[1m)\u001b[22m\u001b[22m at \u001b[1m/Users/daly/.julia/v0.6/ApplicationBuilder/src/BuildApp.jl:136\u001b[22m\u001b[22m",
      " [8] \u001b[1mwithenv\u001b[22m\u001b[22m\u001b[1m(\u001b[22m\u001b[22m::BuildApp.##2#7{Bool,String}, ::Pair{String,String}, ::Vararg{Pair{String,String},N} where N\u001b[1m)\u001b[22m\u001b[22m at \u001b[1m./env.jl:157\u001b[22m\u001b[22m",
      " [9] \u001b[1m#build_app_bundle#1\u001b[22m\u001b[22m\u001b[1m(\u001b[22m\u001b[22m::String, ::String, ::Array{String,1}, ::Array{String,1}, ::Bool, ::Void, ::String, ::Void, ::Void, ::Void, ::Bool, ::BuildApp.#build_app_bundle, ::String\u001b[1m)\u001b[22m\u001b[22m at \u001b[1m/Users/daly/.julia/v0.6/ApplicationBuilder/src/BuildApp.jl:132\u001b[22m\u001b[22m",
      " [10] \u001b[1mbuild_app_bundle\u001b[22m\u001b[22m\u001b[1m(\u001b[22m\u001b[22m::String\u001b[1m)\u001b[22m\u001b[22m at \u001b[1m/Users/daly/.julia/v0.6/ApplicationBuilder/src/BuildApp.jl:37\u001b[22m\u001b[22m"
     ]
    },
    {
     "name": "stderr",
     "output_type": "stream",
     "text": [
      "Undefined symbols for architecture x86_64:\n",
      "  \"_julia_main\", referenced from:\n",
      "      _main in program-0adeaf.o\n",
      "ld: symbol(s) not found for architecture x86_64\n",
      "clang: error: linker command failed with exit code 1 (use -v to see invocation)\n"
     ]
    }
   ],
   "source": [
    "build_app_bundle(\"src/project.jl\")"
   ]
  },
  {
   "cell_type": "markdown",
   "metadata": {
    "collapsed": true,
    "slideshow": {
     "slide_type": "notes"
    }
   },
   "source": [
    " *What's going on there?*\n",
    " - that's really slow!\n",
    " - Our `println` was executed!\n",
    " - It looks like it failed!? Undefined symbols...?"
   ]
  },
  {
   "cell_type": "markdown",
   "metadata": {
    "slideshow": {
     "slide_type": "slide"
    }
   },
   "source": [
    "## What happens when you build an \"app bundle?\"\n",
    "Quick aside: pulling back the curtain..."
   ]
  },
  {
   "cell_type": "markdown",
   "metadata": {
    "slideshow": {
     "slide_type": "subslide"
    }
   },
   "source": [
    "### 1. ApplicationBuilder creates an \"Application Bundle\" based on the supplied configuration.\n",
    "\n",
    "\"Application Bundle\" is my term for a standard, OS-native application.\n",
    "\n",
    "These \"bundles\" wrap up all the things necessary to run the application:\n",
    " - an executable,\n",
    " - supporting runtime libraries, and\n",
    " - supporting resources (graphics, fonts, sounds, etc.)\n",
    " \n",
    "On Mac, this is called an \"app\", and it's actually just a directory with the `.app` extension.\n",
    "\n",
    "On Windows and Linux, just a standard directory."
   ]
  },
  {
   "cell_type": "markdown",
   "metadata": {
    "slideshow": {
     "slide_type": "subslide"
    }
   },
   "source": [
    "### 2. ApplicationBuilder turns your code into an executable.\n",
    "\n",
    "The executable is made out of two pieces:\n",
    " 1. Build a static shared library (a sysimg) containing your parsed and compiled code.\n",
    " 2. Compile a tiny \"driver\" executable which initializes the julia runtime, loads your code, and runs it.\n",
    " \n",
    "The entry point that the *driver executable* uses for your code is a function called `julia_main()`. This maps to the the way `C` programs are invoked.\n",
    "\n",
    "**What this means for you** is that your julia program *must* contain a `julia_main` function, which will be the first thing called when your application is run."
   ]
  },
  {
   "cell_type": "markdown",
   "metadata": {
    "slideshow": {
     "slide_type": "subslide"
    }
   },
   "source": [
    "To see an example of `julia_main`, let's take a look at some of the examples.\n",
    "\n",
    "`ApplicationBuilder.jl/examples/`:\n",
    "&nbsp;&nbsp;&nbsp;&nbsp;https://github.com/NHDaly/ApplicationBuilder.jl/tree/master/examples"
   ]
  },
  {
   "cell_type": "code",
   "execution_count": 9,
   "metadata": {
    "slideshow": {
     "slide_type": "subslide"
    }
   },
   "outputs": [
    {
     "data": {
      "text/plain": [
       "357"
      ]
     },
     "execution_count": 9,
     "metadata": {},
     "output_type": "execute_result"
    }
   ],
   "source": [
    "write(\"src/project.jl\",\n",
    " \"\"\"\n",
    "    using UnicodePlots\n",
    "    \n",
    "    println(\"**** Hello from the outside! ****\")\n",
    "    \n",
    "    Base.@ccallable function julia_main(ARGS::Vector{String})::Cint\n",
    "        println(\"**** Hello From Julia! ****\")\n",
    "        r = rand(0:2π)\n",
    "        println(lineplot(1:100, sin.(linspace(r, r+2π, 100))))\n",
    "    \n",
    "        println(\"Current working directory:\", pwd())\n",
    "\n",
    "        return 0\n",
    "    end\n",
    " \"\"\"\n",
    ")"
   ]
  },
  {
   "cell_type": "code",
   "execution_count": 10,
   "metadata": {
    "slideshow": {
     "slide_type": "fragment"
    }
   },
   "outputs": [
    {
     "name": "stdout",
     "output_type": "stream",
     "text": [
      "  Using calculated bundle_identifier: 'com.daly.helloworld'\n",
      "~~~~~~ Creating mac app in \"/Users/daly/Documents/developer/talks/jupyter/OurProject/builddir/HelloWorld.app\" ~~~~~~~\n",
      "~~~~~~ Creating commandline-app wrapper applet. ~~~~~~~\n",
      "~~~~~~ Compiling a binary from 'src/project.jl'... ~~~~~~~\n",
      "Julia program file:\n",
      "  \"/Users/daly/Documents/developer/talks/jupyter/OurProject/src/project.jl\"\n",
      "C program file:\n",
      "  \"/Users/daly/.julia/v0.6/ApplicationBuilder/src/program.c\"\n",
      "Build directory:\n",
      "  \"/Users/daly/Documents/developer/talks/jupyter/OurProject/builddir/HelloWorld.app/Contents/MacOS\"\n",
      "**** Hello from the outside! ****\n",
      "All done\n"
     ]
    },
    {
     "data": {
      "text/plain": [
       "0"
      ]
     },
     "execution_count": 10,
     "metadata": {},
     "output_type": "execute_result"
    },
    {
     "name": "stdout",
     "output_type": "stream",
     "text": [
      "~~~~~~ Generating 'Info.plist' for 'com.daly.helloworld'... ~~~~~~~\n",
      "~~~~~~ Cleaning up temporary files... ~~~~~~~\n",
      "~~~~~~ Done building '/Users/daly/Documents/developer/talks/jupyter/OurProject/builddir/HelloWorld.app'! ~~~~~~~\n"
     ]
    }
   ],
   "source": [
    "build_app_bundle(\"src/project.jl\",\n",
    "                 appname=\"HelloWorld\",\n",
    "                 commandline_app=true)"
   ]
  },
  {
   "cell_type": "markdown",
   "metadata": {
    "slideshow": {
     "slide_type": "fragment"
    }
   },
   "source": [
    "Explanation of `julia_main`'s (ugly) function declaration:\n",
    "```julia\n",
    "Base.@ccallable\n",
    "function julia_main(ARGS::Vector{String})::Cint\n",
    "```\n",
    " - `Base.@ccallable` allows the function to be called by the *driver* executable.\n",
    " - `::Cint` is the status code returned from your program (the same as in C/C++)."
   ]
  },
  {
   "cell_type": "markdown",
   "metadata": {
    "slideshow": {
     "slide_type": "fragment"
    }
   },
   "source": [
    "Let's run the application we just built!"
   ]
  },
  {
   "cell_type": "code",
   "execution_count": 11,
   "metadata": {
    "slideshow": {
     "slide_type": "fragment"
    }
   },
   "outputs": [],
   "source": [
    "run(`open ./builddir`)"
   ]
  },
  {
   "cell_type": "markdown",
   "metadata": {
    "slideshow": {
     "slide_type": "skip"
    }
   },
   "source": [
    "----\n",
    "** TODO: windows: I think there should be separate slides with preset content. **\n",
    "Maybe w/e repo contains this presentation can also contain prebuilt apps? (Or links to download them since they might be big. That's probably better actually.)\n",
    "\n",
    "----"
   ]
  },
  {
   "cell_type": "markdown",
   "metadata": {
    "slideshow": {
     "slide_type": "subslide"
    }
   },
   "source": [
    "## Ship it!!\n",
    "\n",
    "And that's it! `HelloWorld.app` is a real, complete application that can be distributed to real users, either by downloading from a website, or getting it from an App Store."
   ]
  },
  {
   "cell_type": "markdown",
   "metadata": {
    "slideshow": {
     "slide_type": "subslide"
    }
   },
   "source": [
    "But can it gui!?"
   ]
  },
  {
   "cell_type": "markdown",
   "metadata": {
    "slideshow": {
     "slide_type": "slide"
    }
   },
   "source": [
    "# Adding a GUI to our App"
   ]
  },
  {
   "cell_type": "markdown",
   "metadata": {
    "slideshow": {
     "slide_type": "subslide"
    }
   },
   "source": [
    "## Julia desktop GUI Packages\n",
    "And my success using them with ApplicationBuilder.\n",
    "  \n",
    "<div style=\"display: flex; padding: 20px;\">\n",
    "  <div style=\"float: left; width: 35%;\">\n",
    "  \n",
    "-  ✅ [Blink.jl](https://github.com/JunoLab/Blink.jl) \n",
    "-  ❌ [Gtk.jl](https://github.com/JuliaGraphics/Gtk.jl)  \n",
    "-  ✅ [Libui.jl](https://github.com/joa-quim/Libui.jl)\n",
    "-   **?**  &nbsp; [Cairo.jl](https://github.com/JuliaGraphics/Cairo.jl)\n",
    " </div><div style=\"float: left; width: 65%;\">\n",
    "\n",
    "\n",
    "-  ✅ [SimpleDirectMediaLayer.jl](https://github.com/jonathanBieler/SimpleDirectMediaLayer.jl)\n",
    "-  ❌ [Tk.jl](https://github.com/JuliaGraphics/Tk.jl)\n",
    "-  ❌ [QML.jl](https://github.com/barche/QML.jl) \n",
    "-   **?**  &nbsp; [Win32GUIDemo.jl](https://github.com/ihnorton/Win32GUIDemo.jl)\n",
    "\n",
    "</div>\n",
    "</div>\n",
    "\n",
    "\n",
    "I'm still working on support for the ones that currently aren't working. Come talk to me if you're interested!"
   ]
  },
  {
   "cell_type": "code",
   "execution_count": 15,
   "metadata": {
    "slideshow": {
     "slide_type": "subslide"
    }
   },
   "outputs": [],
   "source": [
    "using Blink\n",
    "\n",
    "win = Window(); sleep(2)"
   ]
  },
  {
   "cell_type": "code",
   "execution_count": 16,
   "metadata": {
    "scrolled": true,
    "slideshow": {
     "slide_type": "-"
    }
   },
   "outputs": [
    {
     "data": {
      "text/plain": [
       "(::#5) (generic function with 1 method)"
      ]
     },
     "execution_count": 16,
     "metadata": {},
     "output_type": "execute_result"
    },
    {
     "name": "stdout",
     "output_type": "stream",
     "text": [
      "msg from js: 13\n",
      "msg from js: 15\n",
      "msg from js: 17\n",
      "msg from js: 21\n",
      "msg from js: 27\n",
      "msg from js: 34\n",
      "msg from js: 41\n",
      "msg from js: 48\n",
      "msg from js: 54\n",
      "msg from js: 57\n",
      "msg from js: 60\n",
      "msg from js: 64\n",
      "msg from js: 65\n",
      "msg from js: 67\n",
      "msg from js: 68\n",
      "msg from js: 69\n",
      "msg from js: 70\n",
      "msg from js: 73\n",
      "msg from js: 74\n",
      "msg from js: 75\n",
      "msg from js: 76\n",
      "msg from js: 84\n",
      "msg from js: 83\n",
      "msg from js: 80\n",
      "msg from js: 68\n",
      "msg from js: 48\n",
      "msg from js: 35\n",
      "msg from js: 27\n",
      "msg from js: 22\n",
      "msg from js: 24\n",
      "msg from js: 34\n",
      "msg from js: 46\n",
      "msg from js: 61\n",
      "msg from js: 79\n",
      "msg from js: 87\n",
      "msg from js: 95\n",
      "msg from js: 99\n",
      "msg from js: 100\n",
      "msg from js: 98\n",
      "msg from js: 75\n",
      "msg from js: 44\n",
      "msg from js: 20\n",
      "msg from js: 1\n",
      "msg from js: 7\n",
      "msg from js: 49\n",
      "msg from js: 84\n",
      "msg from js: 100\n"
     ]
    }
   ],
   "source": [
    "body!(win, \"\"\"\n",
    "    <input id=\"mySlider\" type=\"range\" min=\"1\" max=\"100\" value=\"50\">\n",
    "    <script> \n",
    "        var mySlider = document.getElementById(\"mySlider\")\n",
    "    </script>\n",
    "\"\"\"); sleep(2)\n",
    "tools(win)\n",
    "\n",
    "Blink.@js_ win console.log(\"HELLO!\")\n",
    "Blink.@js_ win mySlider.oninput = \n",
    "    (e) -> (Blink.msg(\"sliderChange\", mySlider.value);\n",
    "            console.log(\"sent msg to julia!\"); e.returnValue=false)\n",
    "Blink.handlers(win)[\"sliderChange\"] = (val) -> (println(\"msg from js: $val\"))"
   ]
  },
  {
   "cell_type": "code",
   "execution_count": 17,
   "metadata": {
    "slideshow": {
     "slide_type": "fragment"
    }
   },
   "outputs": [
    {
     "data": {
      "text/plain": [
       "Plots.PlotlyBackend()"
      ]
     },
     "execution_count": 17,
     "metadata": {},
     "output_type": "execute_result"
    }
   ],
   "source": [
    "using Plots\n",
    "plotly()"
   ]
  },
  {
   "cell_type": "code",
   "execution_count": 21,
   "metadata": {
    "slideshow": {
     "slide_type": "-"
    }
   },
   "outputs": [
    {
     "data": {
      "application/vnd.plotly.v1+json": {
       "data": [
        {
         "colorbar": {
          "title": ""
         },
         "hoverinfo": "text",
         "legendgroup": "y1",
         "line": {
          "color": "rgba(0, 154, 250, 1.000)",
          "dash": "solid",
          "shape": "linear",
          "width": 1
         },
         "mode": "lines",
         "name": "y1",
         "showlegend": true,
         "text": [
          null,
          null,
          null,
          null,
          null,
          null,
          null,
          null,
          null,
          null,
          null,
          null,
          null,
          null,
          null,
          null,
          null,
          null,
          null,
          null,
          null,
          null,
          null,
          null,
          null,
          null,
          null,
          null,
          null,
          null,
          null,
          null,
          null,
          null,
          null,
          null,
          null,
          null,
          null,
          null,
          null,
          null,
          null,
          null,
          null,
          null,
          null,
          null,
          null,
          null,
          null,
          null,
          null,
          null,
          null,
          null,
          null,
          null,
          null,
          null,
          null,
          null,
          null,
          null,
          null,
          null,
          null,
          null,
          null,
          null,
          null,
          null,
          null,
          null,
          null,
          null,
          null,
          null,
          null,
          null,
          null,
          null,
          null,
          null,
          null,
          null,
          null,
          null,
          null,
          null,
          null,
          null,
          null,
          null,
          null,
          null,
          null,
          null,
          null,
          null
         ],
         "type": "scatter",
         "x": [
          2.2,
          2.262831853071796,
          2.325663706143592,
          2.3884955592153876,
          2.4513274122871835,
          2.5141592653589795,
          2.5769911184307754,
          2.6398229715025714,
          2.702654824574367,
          2.765486677646163,
          2.828318530717959,
          2.8911503837897548,
          2.9539822368615507,
          3.0168140899333467,
          3.079645943005142,
          3.142477796076938,
          3.205309649148734,
          3.26814150222053,
          3.330973355292326,
          3.3938052083641215,
          3.4566370614359174,
          3.5194689145077134,
          3.5823007675795093,
          3.6451326206513053,
          3.7079644737231012,
          3.7707963267948967,
          3.8336281798666927,
          3.8964600329384886,
          3.9592918860102846,
          4.0221237390820805,
          4.084955592153876,
          4.147787445225672,
          4.210619298297468,
          4.2734511513692635,
          4.33628300444106,
          4.399114857512855,
          4.461946710584652,
          4.524778563656447,
          4.587610416728243,
          4.650442269800039,
          4.713274122871835,
          4.776105975943631,
          4.838937829015427,
          4.901769682087222,
          4.9646015351590185,
          5.027433388230814,
          5.09026524130261,
          5.153097094374406,
          5.215928947446201,
          5.278760800517998,
          5.341592653589793,
          5.40442450666159,
          5.467256359733385,
          5.530088212805182,
          5.592920065876977,
          5.655751918948773,
          5.718583772020569,
          5.7814156250923645,
          5.844247478164161,
          5.907079331235956,
          5.969911184307752,
          6.032743037379548,
          6.095574890451344,
          6.15840674352314,
          6.221238596594936,
          6.284070449666731,
          6.346902302738528,
          6.409734155810323,
          6.4725660088821195,
          6.535397861953915,
          6.5982297150257105,
          6.661061568097507,
          6.723893421169302,
          6.786725274241099,
          6.849557127312894,
          6.91238898038469,
          6.975220833456486,
          7.038052686528282,
          7.100884539600078,
          7.163716392671874,
          7.22654824574367,
          7.289380098815466,
          7.352211951887261,
          7.4150438049590575,
          7.477875658030853,
          7.540707511102649,
          7.603539364174445,
          7.66637121724624,
          7.729203070318037,
          7.792034923389832,
          7.854866776461629,
          7.917698629533424,
          7.98053048260522,
          8.043362335677015,
          8.106194188748812,
          8.169026041820608,
          8.231857894892403,
          8.294689747964199,
          8.357521601035995,
          8.420353454107792
         ],
         "xaxis": "x1",
         "y": [
          0.8084964038195901,
          0.7699487299540436,
          0.7283624202074837,
          0.6839015967455025,
          0.6367417261260859,
          0.5870689268132736,
          0.5350792346526096,
          0.4809778292072213,
          0.4249782240078208,
          0.3673014239123434,
          0.30817505290074276,
          0.24783245574713225,
          0.18651177711456682,
          0.12445502170685592,
          0.061907099186559504,
          -0.0008851423715633823,
          -0.0636738906771288,
          -0.12621134722602514,
          -0.1882507052479002,
          -0.24954712373972776,
          -0.30985869374139136,
          -0.3689473930398294,
          -0.4265800255339698,
          -0.4825291415532034,
          -0.5365739354973221,
          -0.5885011172553458,
          -0.638105753964149,
          -0.6851920787848448,
          -0.7295742635050612,
          -0.771077151917999,
          -0.8095369510839584,
          -0.8448018777462428,
          -0.876732757350328,
          -0.9052035733022481,
          -0.93010196429852,
          -0.9513296677648734,
          -0.9688029076537426,
          -0.9824527250700494,
          -0.9922252504204607,
          -0.9980819160120604,
          -0.9999996082614143,
          -0.9979707589133245,
          -0.992003374909275,
          -0.9821210067876913,
          -0.9683626557407244,
          -0.9507826196943645,
          -0.9294502790193316,
          -0.9044498227184512,
          -0.8758799161711205,
          -0.8438533117461327,
          -0.8084964038195901,
          -0.7699487299540434,
          -0.7283624202074838,
          -0.683901596745502,
          -0.6367417261260857,
          -0.5870689268132736,
          -0.5350792346526093,
          -0.4809778292072214,
          -0.42497822400782015,
          -0.3673014239123431,
          -0.3081750529007429,
          -0.24783245574713195,
          -0.18651177711456693,
          -0.1244550217068556,
          -0.061907099186559185,
          0.0008851423715632598,
          0.06367389067712911,
          0.12621134722602503,
          0.1882507052479005,
          0.2495471237397281,
          0.30985869374139124,
          0.3689473930398297,
          0.4265800255339697,
          0.4825291415532037,
          0.536573935497322,
          0.5885011172553457,
          0.6381057539641494,
          0.6851920787848447,
          0.7295742635050614,
          0.771077151917999,
          0.8095369510839588,
          0.8448018777462428,
          0.8767327573503279,
          0.9052035733022484,
          0.9301019642985199,
          0.9513296677648736,
          0.9688029076537424,
          0.9824527250700494,
          0.9922252504204607,
          0.9980819160120603,
          0.9999996082614143,
          0.9979707589133245,
          0.992003374909275,
          0.9821210067876913,
          0.9683626557407242,
          0.9507826196943643,
          0.9294502790193316,
          0.9044498227184512,
          0.8758799161711205,
          0.8438533117461322
         ],
         "yaxis": "y1"
        }
       ],
       "layout": {
        "annotations": [],
        "height": 400,
        "legend": {
         "bgcolor": "rgba(255, 255, 255, 1.000)",
         "bordercolor": "rgba(0, 0, 0, 1.000)",
         "font": {
          "color": "rgba(0, 0, 0, 1.000)",
          "family": "sans-serif",
          "size": 11
         },
         "tracegroupgap": 0,
         "x": 1,
         "y": 1
        },
        "margin": {
         "b": 20,
         "l": 0,
         "r": 0,
         "t": 20
        },
        "paper_bgcolor": "rgba(255, 255, 255, 1.000)",
        "plot_bgcolor": "rgba(255, 255, 255, 1.000)",
        "showlegend": true,
        "width": 600,
        "xaxis": {
         "anchor": "y1",
         "domain": [
          0.0658209390492855,
          0.9934383202099738
         ],
         "gridcolor": "rgba(0, 0, 0, 0.100)",
         "gridwidth": 0.5,
         "linecolor": "rgba(0, 0, 0, 1.000)",
         "mirror": false,
         "range": [
          2.0133893963767666,
          8.606964057731025
         ],
         "showgrid": true,
         "showline": true,
         "showticklabels": true,
         "tickangle": 0,
         "tickcolor": "rgb(0, 0, 0)",
         "tickfont": {
          "color": "rgba(0, 0, 0, 1.000)",
          "family": "sans-serif",
          "size": 11
         },
         "tickmode": "array",
         "ticks": "inside",
         "ticktext": [
          "3",
          "4",
          "5",
          "6",
          "7",
          "8"
         ],
         "tickvals": [
          3,
          4,
          5,
          6,
          7,
          8
         ],
         "title": "",
         "titlefont": {
          "color": "rgba(0, 0, 0, 1.000)",
          "family": "sans-serif",
          "size": 15
         },
         "type": "-",
         "visible": true,
         "zeroline": false,
         "zerolinecolor": "rgba(0, 0, 0, 1.000)"
        },
        "yaxis": {
         "anchor": "x1",
         "domain": [
          0.03762029746281716,
          0.9901574803149606
         ],
         "gridcolor": "rgba(0, 0, 0, 0.100)",
         "gridwidth": 0.5,
         "linecolor": "rgba(0, 0, 0, 1.000)",
         "mirror": false,
         "range": [
          -1.059999584757099,
          1.059999584757099
         ],
         "showgrid": true,
         "showline": true,
         "showticklabels": true,
         "tickangle": 0,
         "tickcolor": "rgb(0, 0, 0)",
         "tickfont": {
          "color": "rgba(0, 0, 0, 1.000)",
          "family": "sans-serif",
          "size": 11
         },
         "tickmode": "array",
         "ticks": "inside",
         "ticktext": [
          "-1.0",
          "-0.5",
          "0.0",
          "0.5",
          "1.0"
         ],
         "tickvals": [
          -1,
          -0.5,
          0,
          0.5,
          1
         ],
         "title": "",
         "titlefont": {
          "color": "rgba(0, 0, 0, 1.000)",
          "family": "sans-serif",
          "size": 15
         },
         "type": "-",
         "visible": true,
         "zeroline": false,
         "zerolinecolor": "rgba(0, 0, 0, 1.000)"
        }
       }
      },
      "text/html": [
       "<script src=\"file:///Users/daly/.julia/v0.6/Plots/src/backends/../../deps/plotly-latest.min.js\"></script>    <div id=\"e8dbabd0-569f-4987-9d4b-4c4b7187aa8b\" style=\"width:600px;height:400px;\"></div>\n",
       "    <script>\n",
       "    PLOT = document.getElementById('e8dbabd0-569f-4987-9d4b-4c4b7187aa8b');\n",
       "    Plotly.plot(PLOT, [{\"xaxis\":\"x1\",\"colorbar\":{\"title\":\"\"},\"yaxis\":\"y1\",\"text\":[null,null,null,null,null,null,null,null,null,null,null,null,null,null,null,null,null,null,null,null,null,null,null,null,null,null,null,null,null,null,null,null,null,null,null,null,null,null,null,null,null,null,null,null,null,null,null,null,null,null,null,null,null,null,null,null,null,null,null,null,null,null,null,null,null,null,null,null,null,null,null,null,null,null,null,null,null,null,null,null,null,null,null,null,null,null,null,null,null,null,null,null,null,null,null,null,null,null,null,null],\"x\":[2.2,2.262831853071796,2.325663706143592,2.3884955592153876,2.4513274122871835,2.5141592653589795,2.5769911184307754,2.6398229715025714,2.702654824574367,2.765486677646163,2.828318530717959,2.8911503837897548,2.9539822368615507,3.0168140899333467,3.079645943005142,3.142477796076938,3.205309649148734,3.26814150222053,3.330973355292326,3.3938052083641215,3.4566370614359174,3.5194689145077134,3.5823007675795093,3.6451326206513053,3.7079644737231012,3.7707963267948967,3.8336281798666927,3.8964600329384886,3.9592918860102846,4.0221237390820805,4.084955592153876,4.147787445225672,4.210619298297468,4.2734511513692635,4.33628300444106,4.399114857512855,4.461946710584652,4.524778563656447,4.587610416728243,4.650442269800039,4.713274122871835,4.776105975943631,4.838937829015427,4.901769682087222,4.9646015351590185,5.027433388230814,5.09026524130261,5.153097094374406,5.215928947446201,5.278760800517998,5.341592653589793,5.40442450666159,5.467256359733385,5.530088212805182,5.592920065876977,5.655751918948773,5.718583772020569,5.7814156250923645,5.844247478164161,5.907079331235956,5.969911184307752,6.032743037379548,6.095574890451344,6.15840674352314,6.221238596594936,6.284070449666731,6.346902302738528,6.409734155810323,6.4725660088821195,6.535397861953915,6.5982297150257105,6.661061568097507,6.723893421169302,6.786725274241099,6.849557127312894,6.91238898038469,6.975220833456486,7.038052686528282,7.100884539600078,7.163716392671874,7.22654824574367,7.289380098815466,7.352211951887261,7.4150438049590575,7.477875658030853,7.540707511102649,7.603539364174445,7.66637121724624,7.729203070318037,7.792034923389832,7.854866776461629,7.917698629533424,7.98053048260522,8.043362335677015,8.106194188748812,8.169026041820608,8.231857894892403,8.294689747964199,8.357521601035995,8.420353454107792],\"showlegend\":true,\"mode\":\"lines\",\"name\":\"y1\",\"legendgroup\":\"y1\",\"line\":{\"color\":\"rgba(0, 154, 250, 1.000)\",\"shape\":\"linear\",\"dash\":\"solid\",\"width\":1},\"y\":[0.8084964038195901,0.7699487299540436,0.7283624202074837,0.6839015967455025,0.6367417261260859,0.5870689268132736,0.5350792346526096,0.4809778292072213,0.4249782240078208,0.3673014239123434,0.30817505290074276,0.24783245574713225,0.18651177711456682,0.12445502170685592,0.061907099186559504,-0.0008851423715633823,-0.0636738906771288,-0.12621134722602514,-0.1882507052479002,-0.24954712373972776,-0.30985869374139136,-0.3689473930398294,-0.4265800255339698,-0.4825291415532034,-0.5365739354973221,-0.5885011172553458,-0.638105753964149,-0.6851920787848448,-0.7295742635050612,-0.771077151917999,-0.8095369510839584,-0.8448018777462428,-0.876732757350328,-0.9052035733022481,-0.93010196429852,-0.9513296677648734,-0.9688029076537426,-0.9824527250700494,-0.9922252504204607,-0.9980819160120604,-0.9999996082614143,-0.9979707589133245,-0.992003374909275,-0.9821210067876913,-0.9683626557407244,-0.9507826196943645,-0.9294502790193316,-0.9044498227184512,-0.8758799161711205,-0.8438533117461327,-0.8084964038195901,-0.7699487299540434,-0.7283624202074838,-0.683901596745502,-0.6367417261260857,-0.5870689268132736,-0.5350792346526093,-0.4809778292072214,-0.42497822400782015,-0.3673014239123431,-0.3081750529007429,-0.24783245574713195,-0.18651177711456693,-0.1244550217068556,-0.061907099186559185,0.0008851423715632598,0.06367389067712911,0.12621134722602503,0.1882507052479005,0.2495471237397281,0.30985869374139124,0.3689473930398297,0.4265800255339697,0.4825291415532037,0.536573935497322,0.5885011172553457,0.6381057539641494,0.6851920787848447,0.7295742635050614,0.771077151917999,0.8095369510839588,0.8448018777462428,0.8767327573503279,0.9052035733022484,0.9301019642985199,0.9513296677648736,0.9688029076537424,0.9824527250700494,0.9922252504204607,0.9980819160120603,0.9999996082614143,0.9979707589133245,0.992003374909275,0.9821210067876913,0.9683626557407242,0.9507826196943643,0.9294502790193316,0.9044498227184512,0.8758799161711205,0.8438533117461322],\"type\":\"scatter\",\"hoverinfo\":\"text\"}], {\"showlegend\":true,\"xaxis\":{\"showticklabels\":true,\"gridwidth\":0.5,\"tickvals\":[3.0,4.0,5.0,6.0,7.0,8.0],\"visible\":true,\"ticks\":\"inside\",\"range\":[2.0133893963767666,8.606964057731025],\"domain\":[0.0658209390492855,0.9934383202099738],\"tickmode\":\"array\",\"linecolor\":\"rgba(0, 0, 0, 1.000)\",\"showgrid\":true,\"title\":\"\",\"mirror\":false,\"tickangle\":0,\"showline\":true,\"gridcolor\":\"rgba(0, 0, 0, 0.100)\",\"titlefont\":{\"color\":\"rgba(0, 0, 0, 1.000)\",\"family\":\"sans-serif\",\"size\":15},\"tickcolor\":\"rgb(0, 0, 0)\",\"ticktext\":[\"3\",\"4\",\"5\",\"6\",\"7\",\"8\"],\"zeroline\":false,\"type\":\"-\",\"tickfont\":{\"color\":\"rgba(0, 0, 0, 1.000)\",\"family\":\"sans-serif\",\"size\":11},\"zerolinecolor\":\"rgba(0, 0, 0, 1.000)\",\"anchor\":\"y1\"},\"paper_bgcolor\":\"rgba(255, 255, 255, 1.000)\",\"annotations\":[],\"height\":400,\"margin\":{\"l\":0,\"b\":20,\"r\":0,\"t\":20},\"plot_bgcolor\":\"rgba(255, 255, 255, 1.000)\",\"yaxis\":{\"showticklabels\":true,\"gridwidth\":0.5,\"tickvals\":[-1.0,-0.5,0.0,0.5,1.0],\"visible\":true,\"ticks\":\"inside\",\"range\":[-1.059999584757099,1.059999584757099],\"domain\":[0.03762029746281716,0.9901574803149606],\"tickmode\":\"array\",\"linecolor\":\"rgba(0, 0, 0, 1.000)\",\"showgrid\":true,\"title\":\"\",\"mirror\":false,\"tickangle\":0,\"showline\":true,\"gridcolor\":\"rgba(0, 0, 0, 0.100)\",\"titlefont\":{\"color\":\"rgba(0, 0, 0, 1.000)\",\"family\":\"sans-serif\",\"size\":15},\"tickcolor\":\"rgb(0, 0, 0)\",\"ticktext\":[\"-1.0\",\"-0.5\",\"0.0\",\"0.5\",\"1.0\"],\"zeroline\":false,\"type\":\"-\",\"tickfont\":{\"color\":\"rgba(0, 0, 0, 1.000)\",\"family\":\"sans-serif\",\"size\":11},\"zerolinecolor\":\"rgba(0, 0, 0, 1.000)\",\"anchor\":\"x1\"},\"legend\":{\"tracegroupgap\":0,\"bordercolor\":\"rgba(0, 0, 0, 1.000)\",\"bgcolor\":\"rgba(255, 255, 255, 1.000)\",\"font\":{\"color\":\"rgba(0, 0, 0, 1.000)\",\"family\":\"sans-serif\",\"size\":11},\"y\":1.0,\"x\":1.0},\"width\":600});\n",
       "    </script>\n"
      ]
     },
     "execution_count": 21,
     "metadata": {},
     "output_type": "execute_result"
    }
   ],
   "source": [
    "r = rand(0:0.1:2π)\n",
    "p = plot(r:2π/100:r+2π, sin)"
   ]
  },
  {
   "cell_type": "code",
   "execution_count": 22,
   "metadata": {
    "slideshow": {
     "slide_type": "-"
    }
   },
   "outputs": [],
   "source": [
    "# Let's draw that plot as an SVG and show it in our html window!\n",
    "buf = IOBuffer()\n",
    "show(buf, MIME(\"text/html\"), p)\n",
    "plothtml = String(take!(buf))\n",
    "\n",
    "body!(win, \"\"\"<script>var Plotly = require('$(Plots._plotly_js_path)');</script>\n",
    "              <div id=\"plotHolder\"></div>\"\"\"); sleep(3)\n",
    "content!(win, \"#plotHolder\", plothtml);"
   ]
  },
  {
   "cell_type": "markdown",
   "metadata": {
    "slideshow": {
     "slide_type": "subslide"
    }
   },
   "source": [
    "### Putting it together!"
   ]
  },
  {
   "cell_type": "code",
   "execution_count": 23,
   "metadata": {
    "scrolled": true,
    "slideshow": {
     "slide_type": "-"
    }
   },
   "outputs": [
    {
     "data": {
      "text/plain": [
       "sliderChange (generic function with 1 method)"
      ]
     },
     "execution_count": 23,
     "metadata": {},
     "output_type": "execute_result"
    }
   ],
   "source": [
    "using Blink, Plots\n",
    "plotly()\n",
    "\n",
    "win = Window(); sleep(2)\n",
    "body!(win, \"\"\"\n",
    "    <input id=\"mySlider\" type=\"range\" min=\"1\" max=\"100\" value=\"50\">\n",
    "    <div id=\"plotHolder\">\n",
    "        plot goes here...\n",
    "    </div>\n",
    "    <script>\n",
    "        mySlider = document.getElementById(\"mySlider\")\n",
    "        var Plotly = require('$(Plots._plotly_js_path)');\n",
    "    </script>\n",
    "\"\"\"); sleep(2)\n",
    "tools(win)\n",
    "\n",
    "Blink.@js win console.log(\"HELLO!\")\n",
    "Blink.@js win mySlider.oninput = \n",
    "    (e) -> (Blink.msg(\"sliderChange\", mySlider.value);\n",
    "            console.log(\"sent msg to julia!\"); e.returnValue=false)\n",
    "\n",
    "function sliderChange(val)\n",
    "    r = parse(val)\n",
    "    p = Plots.plot(r:2π/100:r+2π, sin)\n",
    "    buf = IOBuffer()\n",
    "    show(buf, MIME(\"text/html\"), p)\n",
    "    plothtml = String(take!(buf))\n",
    "\n",
    "    content!(win, \"#plotHolder\", plothtml, fade=false)\n",
    "end\n",
    "\n",
    "Blink.handlers(win)[\"sliderChange\"] = sliderChange"
   ]
  },
  {
   "cell_type": "markdown",
   "metadata": {
    "slideshow": {
     "slide_type": "subslide"
    }
   },
   "source": [
    "## Building a static Application!"
   ]
  },
  {
   "cell_type": "code",
   "execution_count": 24,
   "metadata": {
    "slideshow": {
     "slide_type": "-"
    }
   },
   "outputs": [
    {
     "data": {
      "text/plain": [
       "1519"
      ]
     },
     "execution_count": 24,
     "metadata": {},
     "output_type": "execute_result"
    }
   ],
   "source": [
    "write(\"src/project.jl\",\n",
    " raw\"\"\"\n",
    "    using Blink, Plots\n",
    "    plotly()\n",
    "\n",
    "    Base.@ccallable function julia_main(ARGS::Vector{String})::Cint\n",
    "        win = Window(); sleep(2)\n",
    "        body!(win, \\\"\\\"\\\"\n",
    "            <input id=\"mySlider\" type=\"range\" min=\"1\" max=\"100\" value=\"50\">\n",
    "            <div id=\"plotHolder\">\n",
    "                plot goes here...\n",
    "            </div>\n",
    "            <script>\n",
    "                mySlider = document.getElementById(\"mySlider\")\n",
    "                var Plotly = require('$(Plots._plotly_js_path)');\n",
    "            </script>\n",
    "        \\\"\\\"\\\"); sleep(2)\n",
    "        tools(win)\n",
    "\n",
    "        Blink.@js_ win console.log(\"HELLO!\")\n",
    "        Blink.@js_ win mySlider.oninput = \n",
    "            (e) -> (Blink.msg(\"sliderChange\", mySlider.value);\n",
    "                    console.log(\"sent msg to julia!\"); e.returnValue=false)\n",
    "\n",
    "        function sliderChange(val)\n",
    "            r = parse(val)\n",
    "            p = Plots.plot(r:2π/100:r+2π, sin);  # Don't forget this ';' to prevent it opening a plot window!\n",
    "            buf = IOBuffer()\n",
    "            # invokelatest b/c show compiles more functions, and fails due to world age (https://discourse.julialang.org/t/running-in-world-age-x-while-current-world-is-y-errors/5871/5)\n",
    "            Base.invokelatest(show, buf, MIME(\"text/html\"), p);\n",
    "            plothtml = String(take!(buf))\n",
    "\n",
    "            Blink.content!(win, \"#plotHolder\", plothtml, fade=false)\n",
    "        end\n",
    "\n",
    "        Blink.handlers(win)[\"sliderChange\"] = sliderChange\n",
    "    \n",
    "        # Keep the process alive until the window is closed!\n",
    "        while active(win)\n",
    "            sleep(1)\n",
    "        end\n",
    "\n",
    "        return 0\n",
    "    end\n",
    " \"\"\"\n",
    ")"
   ]
  },
  {
   "cell_type": "code",
   "execution_count": 25,
   "metadata": {
    "scrolled": true,
    "slideshow": {
     "slide_type": "-"
    }
   },
   "outputs": [
    {
     "name": "stdout",
     "output_type": "stream",
     "text": [
      "  Using calculated bundle_identifier: 'com.daly.sineplotter'\n",
      "~~~~~~ Creating mac app in \"/Users/daly/Documents/developer/talks/jupyter/OurProject/builddir/SinePlotter.app\" ~~~~~~~\n",
      "~~~~~~ Compiling a binary from 'src/project.jl'... ~~~~~~~\n",
      "Julia program file:\n",
      "  \"/Users/daly/Documents/developer/talks/jupyter/OurProject/src/project.jl\"\n",
      "C program file:\n",
      "  \"/Users/daly/.julia/v0.6/ApplicationBuilder/src/program.c\"\n",
      "Build directory:\n",
      "  \"/Users/daly/Documents/developer/talks/jupyter/OurProject/builddir/SinePlotter.app/Contents/MacOS\"\n",
      "All done\n"
     ]
    },
    {
     "data": {
      "text/plain": [
       "0"
      ]
     },
     "execution_count": 25,
     "metadata": {},
     "output_type": "execute_result"
    },
    {
     "name": "stdout",
     "output_type": "stream",
     "text": [
      "~~~~~~ Generating 'Info.plist' for 'com.daly.sineplotter'... ~~~~~~~\n",
      "~~~~~~ Cleaning up temporary files... ~~~~~~~\n",
      "~~~~~~ Done building '/Users/daly/Documents/developer/talks/jupyter/OurProject/builddir/SinePlotter.app'! ~~~~~~~\n"
     ]
    }
   ],
   "source": [
    "build_app_bundle(\n",
    "    \"src/project.jl\",\n",
    "    appname=\"SinePlotter\",  # New App name\n",
    ")"
   ]
  },
  {
   "cell_type": "code",
   "execution_count": null,
   "metadata": {
    "slideshow": {
     "slide_type": "-"
    }
   },
   "outputs": [],
   "source": [
    "run(`open /Users/daly/Documents/developer/talks/jupyter/OurProject/builddir/SinePlotter.app`)"
   ]
  },
  {
   "cell_type": "markdown",
   "metadata": {
    "slideshow": {
     "slide_type": "fragment"
    }
   },
   "source": [
    "But how do we make a _distributable_ Blink app?\n"
   ]
  },
  {
   "cell_type": "markdown",
   "metadata": {
    "slideshow": {
     "slide_type": "fragment"
    }
   },
   "source": [
    "We need to wrap up all the things Blink needs to run.\n",
    "\n",
    "Example:\n",
    "\n",
    "https://github.com/NHDaly/ApplicationBuilder.jl/blob/master/examples/blink.jl"
   ]
  },
  {
   "cell_type": "code",
   "execution_count": 30,
   "metadata": {
    "slideshow": {
     "slide_type": "fragment"
    }
   },
   "outputs": [
    {
     "data": {
      "text/plain": [
       "3097"
      ]
     },
     "execution_count": 30,
     "metadata": {},
     "output_type": "execute_result"
    },
    {
     "name": "stdout",
     "output_type": "stream",
     "text": [
      "~~~~~~ Generating 'Info.plist' for 'com.daly.sineplotterbundled'... ~~~~~~~\n",
      "~~~~~~ Cleaning up temporary files... ~~~~~~~\n",
      "~~~~~~ Done building '/Users/daly/Documents/developer/talks/jupyter/OurProject/builddir/SinePlotterBundled.app'! ~~~~~~~\n"
     ]
    }
   ],
   "source": [
    "# Apply that to our program, and this is what we have:\n",
    "write(\"src/project.jl\",\n",
    " raw\"\"\"\n",
    "    using Blink, Plots\n",
    "    using ApplicationBuilder\n",
    "\n",
    "    # THIS IS NEEDED FOR YOUR CODE TO RUN ON ANY COMPUTER\n",
    "    if get(ENV, \"COMPILING_APPLE_BUNDLE\", \"false\") == \"true\"\n",
    "        println(\"Overriding Blink dependency paths.\")\n",
    "        eval(Blink.AtomShell, :(_electron = \"Julia.app/Contents/MacOS/Julia\"))\n",
    "        eval(Blink.AtomShell, :(mainjs = \"main.js\"))\n",
    "        eval(Blink, :(buzz = \"main.html\"))\n",
    "        eval(Blink, :(resources = Dict(\"spinner.css\" => \"res/spinner.css\",\n",
    "                                 \"blink.js\" => \"res/blink.js\",\n",
    "                                 \"blink.css\" => \"res/blink.css\",\n",
    "                                 \"reset.css\" => \"res/reset.css\")))\n",
    "        # Clear out Blink.__inits__, since it will attempt to evaluate hardcoded paths.\n",
    "        # (We've defined all the variables manually, above: `resources` and `port`.)\n",
    "        eval(Blink, :(empty!(__inits__)))\n",
    "\n",
    "        eval(HttpParser, :(lib = basename(lib)))\n",
    "        eval(MbedTLS, :(const libmbedcrypto = basename(libmbedcrypto)))\n",
    "\n",
    "        using WebSockets\n",
    "        eval(WebSockets, :(using HttpServer))  # needed to cause @require lines to execute & compile\n",
    "        eval(WebSockets,\n",
    "            :(include(joinpath(Pkg.dir(\"WebSockets\"),\"src/HttpServer.jl\"))))  # Manually load this from the @requires line.\n",
    "\n",
    "        println(\"Done changing dependencies.\")\n",
    "    end\n",
    "    \n",
    "    Base.@ccallable function julia_main(ARGS::Vector{String})::Cint\n",
    "        # THIS IS NEEDED FOR YOUR CODE TO RUN ON ANY COMPUTER\n",
    "        ApplicationBuilder.App.change_dir_if_bundle()\n",
    "\n",
    "        # This must be inside app_main() b/c must be after `change_dir_if_bundle()`\n",
    "        plotly()\n",
    "\n",
    "        win = Window(); sleep(5)\n",
    "        body!(win, \\\"\\\"\\\"\n",
    "            <input id=\"mySlider\" type=\"range\" min=\"1\" max=\"100\" value=\"50\">\n",
    "            <div id=\"plotHolder\">\n",
    "                plot goes here...\n",
    "            </div>\n",
    "            <script>\n",
    "                mySlider = document.getElementById(\"mySlider\")\n",
    "                var Plotly = require('../../../../../$(Plots._plotly_js_path)');\n",
    "            </script>\n",
    "        \\\"\\\"\\\"); sleep(2)\n",
    "        tools(win)\n",
    "\n",
    "        Blink.@js_ win console.log(\"HELLO!\")\n",
    "        Blink.@js_ win mySlider.oninput = \n",
    "            (e) -> (Blink.msg(\"sliderChange\", mySlider.value);\n",
    "                    console.log(\"sent msg to julia!\"); e.returnValue=false)\n",
    "\n",
    "        function sliderChange(val)\n",
    "            r = parse(val)\n",
    "            p = Plots.plot(r:2π/100:r+2π, sin);  # Don't forget this ';' to prevent it opening a plot window!\n",
    "            buf = IOBuffer()\n",
    "            # invokelatest b/c show compiles more functions, and fails due to world age (https://discourse.julialang.org/t/running-in-world-age-x-while-current-world-is-y-errors/5871/5)\n",
    "            Base.invokelatest(show, buf, MIME(\"text/html\"), p);\n",
    "            plothtml = String(take!(buf))\n",
    "\n",
    "            Blink.content!(win, \"#plotHolder\", plothtml, fade=false)\n",
    "        end\n",
    "\n",
    "        Blink.handlers(win)[\"sliderChange\"] = sliderChange\n",
    "    \n",
    "        # Keep the process alive until the window is closed!\n",
    "        while active(win)\n",
    "            sleep(1)\n",
    "        end\n",
    "\n",
    "        return 0\n",
    "    end\n",
    "\"\"\"\n",
    ")"
   ]
  },
  {
   "cell_type": "code",
   "execution_count": 29,
   "metadata": {
    "scrolled": false,
    "slideshow": {
     "slide_type": "-"
    }
   },
   "outputs": [
    {
     "name": "stdout",
     "output_type": "stream",
     "text": [
      "  Using calculated bundle_identifier: 'com.daly.sineplotterbundled'\n",
      "~~~~~~ Creating mac app in \"/Users/daly/Documents/developer/talks/jupyter/OurProject/builddir/SinePlotterBundled.app\" ~~~~~~~\n",
      "~~~~~~ Copying user-specified libraries & resources to bundle... ~~~~~~~\n",
      "  Resources:\n",
      "    - /Users/daly/.julia/v0.6/Blink/deps/Julia.app ............... done\n",
      "    - /Users/daly/.julia/v0.6/Blink/src/AtomShell/main.js ............... done\n",
      "    - /Users/daly/.julia/v0.6/Blink/src/content/main.html ............... done\n",
      "    - /Users/daly/.julia/v0.6/Blink/res ............... done\n",
      "    - /Users/daly/.julia/v0.6/MacroTools/animals.txt ............... done\n",
      "    - /Users/daly/.julia/v0.6/Plots/src/backends/../../deps/plotly-latest.min.js ............... done\n",
      "  Libraries:\n",
      "    - /Users/daly/.julia/v0.6/HttpParser/deps/usr/lib/libhttp_parser.dylib ............... done\n",
      "    - /Users/daly/.julia/v0.6/MbedTLS/src/../deps/usr/lib/libmbedcrypto.2.11.0.dylib ............... done\n",
      "~~~~~~ Compiling a binary from 'src/project.jl'... ~~~~~~~\n",
      "Julia program file:\n",
      "  \"/Users/daly/Documents/developer/talks/jupyter/OurProject/src/project.jl\"\n",
      "C program file:\n",
      "  \"/Users/daly/.julia/v0.6/ApplicationBuilder/src/program.c\"\n",
      "Build directory:\n",
      "  \"/Users/daly/Documents/developer/talks/jupyter/OurProject/builddir/SinePlotterBundled.app/Contents/MacOS\"\n",
      "Overriding Blink dependency paths.\n"
     ]
    },
    {
     "name": "stderr",
     "output_type": "stream",
     "text": [
      "WARNING: redefining constant _electron\n",
      "WARNING: redefining constant mainjs\n",
      "WARNING: redefining constant resources\n",
      "WARNING: redefining constant lib\n",
      "WARNING: redefining constant libmbedcrypto\n"
     ]
    },
    {
     "name": "stdout",
     "output_type": "stream",
     "text": [
      "Done changing dependencies.\n"
     ]
    },
    {
     "name": "stderr",
     "output_type": "stream",
     "text": [
      "INFO: Loading HttpServer methods...\n"
     ]
    },
    {
     "name": "stdout",
     "output_type": "stream",
     "text": [
      "All done\n"
     ]
    },
    {
     "data": {
      "text/plain": [
       "0"
      ]
     },
     "execution_count": 29,
     "metadata": {},
     "output_type": "execute_result"
    }
   ],
   "source": [
    "# Build a distributable SinPlotter.app!\n",
    "using ApplicationBuilder; using BuildApp\n",
    "using Blink, Plots\n",
    "blinkPkg = Pkg.dir(\"Blink\")\n",
    "macroToolsPkg = Pkg.dir(\"MacroTools\")\n",
    "\n",
    "build_app_bundle(\n",
    "    \"src/project.jl\",\n",
    "    appname=\"SinePlotterBundled\",\n",
    "    resources = [\n",
    "        # Blink resources\n",
    "        joinpath(blinkPkg, \"deps\",\"Julia.app\"),\n",
    "        Blink.AtomShell.mainjs,\n",
    "        joinpath(blinkPkg, \"src\",\"content\",\"main.html\"),\n",
    "        joinpath(blinkPkg, \"res\"),\n",
    "        # Plots resources\n",
    "        Plots._plotly_js_path,\n",
    "    ],\n",
    "    libraries = [\n",
    "        HttpParser.lib,\n",
    "        MbedTLS.libmbedcrypto,\n",
    "    ],\n",
    ")"
   ]
  },
  {
   "cell_type": "code",
   "execution_count": 31,
   "metadata": {
    "slideshow": {
     "slide_type": "-"
    }
   },
   "outputs": [
    {
     "ename": "LoadError",
     "evalue": "\u001b[91mfailed process: Process(`open /Users/daly/Documents/developer/talks/jupyter/OurProject/builddir/SinePlotterBundled.app`, ProcessExited(1)) [1]\u001b[39m",
     "output_type": "error",
     "traceback": [
      "\u001b[91mfailed process: Process(`open /Users/daly/Documents/developer/talks/jupyter/OurProject/builddir/SinePlotterBundled.app`, ProcessExited(1)) [1]\u001b[39m",
      "",
      "Stacktrace:",
      " [1] \u001b[1mpipeline_error\u001b[22m\u001b[22m\u001b[1m(\u001b[22m\u001b[22m::Base.Process\u001b[1m)\u001b[22m\u001b[22m at \u001b[1m./process.jl:682\u001b[22m\u001b[22m",
      " [2] \u001b[1mrun\u001b[22m\u001b[22m\u001b[1m(\u001b[22m\u001b[22m::Cmd\u001b[1m)\u001b[22m\u001b[22m at \u001b[1m./process.jl:651\u001b[22m\u001b[22m"
     ]
    },
    {
     "name": "stderr",
     "output_type": "stream",
     "text": [
      "LSOpenURLsWithRole() failed with error -10810 for the file /Users/daly/Documents/developer/talks/jupyter/OurProject/builddir/SinePlotterBundled.app.\n"
     ]
    }
   ],
   "source": [
    "run(`open /Users/daly/Documents/developer/talks/jupyter/OurProject/builddir/SinePlotterBundled.app`)"
   ]
  },
  {
   "cell_type": "markdown",
   "metadata": {
    "slideshow": {
     "slide_type": "slide"
    }
   },
   "source": [
    "## Future Work <small>... with you!?...</small>\n",
    "\n",
    "- Bloat: Do we really need all of those julia libraries? (100M!) Does _pong_ need FFT?\n",
    "    - Can we even maybe cut unused code out of the sysimg? (40M!)\n",
    "- Binary dependencies: This is the biggest pain point right now.\n",
    "    - Automated detection of binary dependencies?\n",
    "    - Automated copying, bundling, and modifying hard-coded paths?\n",
    "    - ✨ **Can we have Packages handle this!?** ✨\n",
    "        - BinDeps, BinaryProvider, BinDeps2, BinaryBuilder, etc: can we make them aware of the compilation process?"
   ]
  },
  {
   "cell_type": "markdown",
   "metadata": {
    "slideshow": {
     "slide_type": "subslide"
    }
   },
   "source": [
    "## Special Thanks\n",
    "\n",
    "- ranjanan\n",
    "- lucatrv\n",
    "- simondanish\n",
    "- vtjnash"
   ]
  }
 ],
 "metadata": {
  "celltoolbar": "Slideshow",
  "kernel_info": {
   "name": "julia-0.6"
  },
  "kernelspec": {
   "display_name": "Julia 0.6.4",
   "language": "julia",
   "name": "julia-0.6"
  },
  "language_info": {
   "file_extension": ".jl",
   "mimetype": "application/julia",
   "name": "julia",
   "version": "0.6.4"
  },
  "nteract": {
   "version": "0.8.4"
  }
 },
 "nbformat": 4,
 "nbformat_minor": 2
}
