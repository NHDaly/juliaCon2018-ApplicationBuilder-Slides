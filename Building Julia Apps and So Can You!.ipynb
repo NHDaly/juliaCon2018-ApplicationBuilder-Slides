{
 "cells": [
  {
   "cell_type": "markdown",
   "metadata": {
    "slideshow": {
     "slide_type": "slide"
    }
   },
   "source": [
    "# Building Julia Apps and So Can You! <br><small>Compiling and distributing desktop applications written in Julia</small>\n",
    "\n",
    "### Nathan Daly <br><small>nhdaly@gmail.com<br>http://nhdaly.github.io</small><br><br>\n",
    "    \n",
    "\n",
    "Download this notebook here:<br>\n",
    "https://github.com/NHDaly/juliaCon2018-ApplicationBuilder-Slides"
   ]
  },
  {
   "cell_type": "markdown",
   "metadata": {
    "slideshow": {
     "slide_type": "notes"
    }
   },
   "source": [
    "## This Notebook\n",
    "\n",
    "Most of this presentation is in the form of an interactive jupyter notebook. If you've downloaded it ([here](https://github.com/NHDaly/juliaCon2018-ApplicationBuilder-Slides)), you can open the notebook like this:\n",
    "```julia\n",
    "julia> using IJulia; IJulia.notebook()\n",
    "```\n",
    "Then double click the file you downloaded."
   ]
  },
  {
   "cell_type": "markdown",
   "metadata": {
    "slideshow": {
     "slide_type": "slide"
    }
   },
   "source": [
    "## Overview\n",
    "\n",
    "- Definitions\n",
    "- Demo\n",
    "- Building a simple command line Application\n",
    "- Building an Application with a GUI (dealing with binary dependencies)"
   ]
  },
  {
   "cell_type": "code",
   "execution_count": null,
   "metadata": {
    "slideshow": {
     "slide_type": "slide"
    }
   },
   "outputs": [],
   "source": [
    "# NOTE: Below are the packages needed to run all of this notebook.\n",
    "# You really need ApplicationBuilder. The rest are optional.\n",
    "Pkg.clone(\"https://github.com/NHDaly/ApplicationBuilder.jl\")  # Necessary for whole notebook\n",
    "Pkg.add(\"PrintFileTree\")  # Not necessary (you can use unix `find` as a decent replacement).\n",
    "Pkg.add(\"UnicodePlots\")  # Only needed for the demo application.\n",
    "Pkg.add(\"Plots\");  # Only needed for the GUI example at the end.\n",
    "Pkg.add(\"Blink\"); using Blink; Blink.AtomShell.install()  # Only needed if you want to run the GUI example at the end."
   ]
  },
  {
   "cell_type": "markdown",
   "metadata": {
    "slideshow": {
     "slide_type": "-"
    }
   },
   "source": [
    "On Julia v0.7:\n",
    "```julia\n",
    "pkg> add https://github.com/NHDaly/ApplicationBuilder.jl.git#julia0.7\n",
    "pkg> add https://github.com/NHDaly/ApplicationBuilderRuntimeUtils.jl.git\n",
    "```"
   ]
  },
  {
   "cell_type": "markdown",
   "metadata": {
    "slideshow": {
     "slide_type": "slide"
    }
   },
   "source": [
    "What is an Application?"
   ]
  },
  {
   "cell_type": "markdown",
   "metadata": {
    "slideshow": {
     "slide_type": "subslide"
    }
   },
   "source": [
    "Julia 0.7 [Pkg docs](https://docs.julialang.org/en/latest/stdlib/Pkg/#Glossary-1):\n",
    "\n",
    "> <u>Application:</u> a project which provides standalone functionality not intended to be reused by other Julia projects."
   ]
  },
  {
   "cell_type": "markdown",
   "metadata": {
    "slideshow": {
     "slide_type": "subslide"
    }
   },
   "source": [
    "What am I talking about when I say \"Application\"?"
   ]
  },
  {
   "cell_type": "markdown",
   "metadata": {
    "slideshow": {
     "slide_type": "fragment"
    }
   },
   "source": [
    "- Provides standalone functionality (same as Julia 0.7 definition)"
   ]
  },
  {
   "cell_type": "markdown",
   "metadata": {
    "slideshow": {
     "slide_type": "fragment"
    }
   },
   "source": [
    "- Distributable"
   ]
  },
  {
   "cell_type": "markdown",
   "metadata": {
    "slideshow": {
     "slide_type": "fragment"
    }
   },
   "source": [
    "- Self-contained (no Julia installation required)"
   ]
  },
  {
   "cell_type": "markdown",
   "metadata": {
    "slideshow": {
     "slide_type": "fragment"
    }
   },
   "source": [
    "- Compiled binary"
   ]
  },
  {
   "cell_type": "markdown",
   "metadata": {
    "slideshow": {
     "slide_type": "slide"
    }
   },
   "source": [
    "### Demo: Paddle Battle\n",
    "\n",
    "![Paddle Battle Clip](https://nhdaly.github.io/assets/images/Paddle-Battle-Clip.gif)\n",
    "\n",
    "An example Application: Paddle Battle is a simple Pong-style game written entirely in Julia using a C graphics library called SDL.\n",
    "https://github.com/NHDaly/PaddleBattleJL<br>\n",
    "[Paddle Battle on Mac App Store](https://itunes.apple.com/us/app/paddle-battle/id1370991412?mt=12)"
   ]
  },
  {
   "cell_type": "markdown",
   "metadata": {
    "slideshow": {
     "slide_type": "subslide"
    }
   },
   "source": [
    "Julia is great for building Applications.\n",
    "\n",
    "<small>First of all, it's fun! Look at me live-editing code in Juno:</small>\n",
    "![Live editing collision handling](https://nhdaly.github.io//assets/images/Paddle-Battle-Juno-live-editing.gif)\n",
    "\n"
   ]
  },
  {
   "cell_type": "markdown",
   "metadata": {
    "slideshow": {
     "slide_type": "subslide"
    }
   },
   "source": [
    "> That's nice... But why do I want to compile my julia program into an Application?"
   ]
  },
  {
   "cell_type": "markdown",
   "metadata": {
    "slideshow": {
     "slide_type": "fragment"
    }
   },
   "source": [
    "&nbsp;&nbsp;&nbsp;&nbsp;&nbsp;&nbsp;&nbsp;&nbsp;&nbsp;&nbsp;&nbsp;&nbsp;&nbsp;&nbsp;&nbsp;&nbsp;&nbsp;&nbsp;&nbsp;&nbsp;&nbsp;&nbsp;&nbsp;&nbsp; To share your work!"
   ]
  },
  {
   "cell_type": "markdown",
   "metadata": {
    "slideshow": {
     "slide_type": "slide"
    }
   },
   "source": [
    "## Making our own App"
   ]
  },
  {
   "cell_type": "code",
   "execution_count": null,
   "metadata": {
    "slideshow": {
     "slide_type": "subslide"
    }
   },
   "outputs": [],
   "source": [
    "mkpath(\"OurProject\")"
   ]
  },
  {
   "cell_type": "code",
   "execution_count": null,
   "metadata": {
    "slideshow": {
     "slide_type": "fragment"
    }
   },
   "outputs": [],
   "source": [
    "mkpath(\"OurProject/src\")  # For OurProject's source code"
   ]
  },
  {
   "cell_type": "code",
   "execution_count": null,
   "metadata": {
    "slideshow": {
     "slide_type": "-"
    }
   },
   "outputs": [],
   "source": [
    "write(\"OurProject/src/project.jl\",\n",
    " \"\"\"\n",
    "    using UnicodePlots\n",
    "\n",
    "    println(\"**** Hello From Julia! ****\")\n",
    "    r = rand(0:2π)\n",
    "    println(lineplot(1:100, sin.(linspace(r, r+2π, 100))))\n",
    "    \n",
    "    println(\"Current working directory:\", pwd())\n",
    " \"\"\"\n",
    ")"
   ]
  },
  {
   "cell_type": "code",
   "execution_count": null,
   "metadata": {},
   "outputs": [],
   "source": [
    "using PrintFileTree\n",
    "printfiletree(\"OurProject\")"
   ]
  },
  {
   "cell_type": "code",
   "execution_count": null,
   "metadata": {
    "slideshow": {
     "slide_type": "subslide"
    }
   },
   "outputs": [],
   "source": [
    "include(\"OurProject/src/project.jl\")"
   ]
  },
  {
   "cell_type": "markdown",
   "metadata": {
    "slideshow": {
     "slide_type": "slide"
    }
   },
   "source": [
    "## ~~ ApplicationBuilder.jl ~~"
   ]
  },
  {
   "cell_type": "code",
   "execution_count": null,
   "metadata": {
    "slideshow": {
     "slide_type": "subslide"
    }
   },
   "outputs": [],
   "source": [
    " using ApplicationBuilder; using BuildApp  # BuildApp was installed automatically, \"next to\" ApplicationBuilder."
   ]
  },
  {
   "cell_type": "markdown",
   "metadata": {
    "slideshow": {
     "slide_type": "fragment"
    }
   },
   "source": [
    "### What does “compiling” mean? What's it doing?"
   ]
  },
  {
   "cell_type": "markdown",
   "metadata": {
    "slideshow": {
     "slide_type": "fragment"
    }
   },
   "source": [
    "- [PackageCompiler.jl](https://github.com/JuliaLang/PackageCompiler.jl) compiles your julia program to a binary.\n",
    "  - `julia -Cx86-64 --compile=yes`<br>`--depwarn=yes --precompiled=no`<br>`--compilecache=no --output-o`...\n",
    "- Remember: Julia is a compiled language with an interpreter, not the other way around."
   ]
  },
  {
   "cell_type": "markdown",
   "metadata": {
    "slideshow": {
     "slide_type": "fragment"
    }
   },
   "source": [
    "\n",
    "This creates an \"object file\", which contains all the compiled functions from your code plus all the rest of the julia standard library. \n",
    "\n",
    "And finally, `PackageCompiler` then links that into a shared library, and ultimately creates an executable.\n",
    "\n",
    "So much work was done here by:\n",
    "<div class=\"row\" style=\"display: flex; padding: 20px;\">\n",
    "  <div class=\"column\" style=\"float: left; width: 35%;\">\n",
    "\n",
    "- SimonDanisch\n",
    "- lucatrv\n",
    "- vtjnash\n",
    "  </div><div class=\"column\" style=\"float: left; width: 65%;\">\n",
    "\n",
    "\n",
    "- timholy\n",
    "- ViralBShah\n",
    "- ... and [many more](https://github.com/JuliaLang/PackageCompiler.jl/graphs/contributors)\n",
    "\n",
    "</div>\n",
    "</div>\n",
    "\n",
    "THANKS!"
   ]
  },
  {
   "cell_type": "code",
   "execution_count": null,
   "metadata": {
    "scrolled": false,
    "slideshow": {
     "slide_type": "subslide"
    }
   },
   "outputs": [],
   "source": [
    "build_app_bundle(\"OurProject/src/project.jl\")"
   ]
  },
  {
   "cell_type": "markdown",
   "metadata": {
    "collapsed": true,
    "slideshow": {
     "slide_type": "notes"
    }
   },
   "source": [
    " *What's going on there?*\n",
    " - that's really slow!\n",
    " - Our `println` was executed!\n",
    " - It **FAILED!?** Something about undefined symbols...?\n",
    "    - More on this below:"
   ]
  },
  {
   "cell_type": "markdown",
   "metadata": {
    "slideshow": {
     "slide_type": "slide"
    }
   },
   "source": [
    "## What happens when you build an \"app bundle?\"\n",
    "Quick aside: pulling back the curtain..."
   ]
  },
  {
   "cell_type": "markdown",
   "metadata": {
    "slideshow": {
     "slide_type": "subslide"
    }
   },
   "source": [
    "### 1. ApplicationBuilder creates an \"Application Bundle\" based on the supplied configuration.\n",
    "\n",
    "\"Application Bundle\" is my term for a standard, OS-native application.\n",
    "\n",
    "These \"bundles\" wrap up all the things necessary to run the application:\n",
    " - an executable,\n",
    " - supporting runtime libraries, and\n",
    " - supporting resources (graphics, fonts, sounds, etc.)\n",
    " \n",
    "On Mac, this is called an \"app\", and it's actually just a directory with the `.app` extension.\n",
    "\n",
    "On Windows and Linux, just a standard directory."
   ]
  },
  {
   "cell_type": "markdown",
   "metadata": {
    "slideshow": {
     "slide_type": "subslide"
    }
   },
   "source": [
    "### 2. ApplicationBuilder turns your code into an executable.\n",
    "\n",
    "The executable is made out of two pieces:\n",
    " 1. Build a static shared library (a sysimg) containing your parsed and compiled code.\n",
    " 2. Compile a tiny \"driver\" executable which initializes the julia runtime, loads your code, and runs it.\n",
    " \n",
    "The entry point that the *driver executable* uses for your code is a function called `julia_main()`. This maps to the the way `C` programs are invoked.\n",
    "\n",
    "**What this means for you** is that your julia program *must* contain a `julia_main` function, which will be the first thing called when your application is run."
   ]
  },
  {
   "cell_type": "markdown",
   "metadata": {
    "slideshow": {
     "slide_type": "subslide"
    }
   },
   "source": [
    "To see an example of `julia_main`, let's take a look at some of the examples.\n",
    "\n",
    "`ApplicationBuilder.jl/examples/`:\n",
    "&nbsp;&nbsp;&nbsp;&nbsp;https://github.com/NHDaly/ApplicationBuilder.jl/tree/master/examples"
   ]
  },
  {
   "cell_type": "code",
   "execution_count": null,
   "metadata": {
    "slideshow": {
     "slide_type": "subslide"
    }
   },
   "outputs": [],
   "source": [
    "write(\"OurProject/src/project.jl\",\n",
    " \"\"\"\n",
    "    using UnicodePlots\n",
    "    \n",
    "    println(\"**** Hello from the outside! ****\")\n",
    "    \n",
    "    Base.@ccallable function julia_main(ARGS::Vector{String})::Cint\n",
    "        println(\"**** Hello From Julia! ****\")\n",
    "        r = rand(0:2π)\n",
    "        println(lineplot(1:100, sin.(linspace(r, r+2π, 100))))\n",
    "    \n",
    "        println(\"Current working directory:\", pwd())\n",
    "\n",
    "        return 0\n",
    "    end\n",
    " \"\"\"\n",
    ")"
   ]
  },
  {
   "cell_type": "code",
   "execution_count": null,
   "metadata": {
    "slideshow": {
     "slide_type": "fragment"
    }
   },
   "outputs": [],
   "source": [
    "build_app_bundle(\"OurProject/src/project.jl\",\n",
    "                 appname=\"HelloWorld\",\n",
    "                 builddir=\"OurProject/builds\",\n",
    "                 commandline_app=true)"
   ]
  },
  {
   "cell_type": "markdown",
   "metadata": {
    "slideshow": {
     "slide_type": "fragment"
    }
   },
   "source": [
    "Explanation of `julia_main`'s (ugly) function declaration:\n",
    "```julia\n",
    "Base.@ccallable\n",
    "function julia_main(ARGS::Vector{String})::Cint\n",
    "```\n",
    " - `Base.@ccallable` allows the function to be called by the *driver* executable.\n",
    " - `::Cint` is the status code returned from your program (the same as in C/C++)."
   ]
  },
  {
   "cell_type": "markdown",
   "metadata": {
    "slideshow": {
     "slide_type": "fragment"
    }
   },
   "source": [
    "Let's run the application we just built!"
   ]
  },
  {
   "cell_type": "code",
   "execution_count": null,
   "metadata": {
    "slideshow": {
     "slide_type": "fragment"
    }
   },
   "outputs": [],
   "source": [
    "run(`open ./OurProject`)"
   ]
  },
  {
   "cell_type": "markdown",
   "metadata": {
    "slideshow": {
     "slide_type": "fragment"
    }
   },
   "source": [
    "One more note on compiling: Snoopfiles!\n",
    "\n",
    "In order to see a _speed up_ from compiling, you have to _fully compile_ your code to native instructions, not just lower it to an AST. `snoop` == tell julia what to compile.\n",
    "\n",
    "```julia\n",
    "build_app_bundle(\n",
    "    \"OurProject/src/project.jl\",\n",
    "    autosnoop=true,  # <----- Added this yesterday...\n",
    "  # or:\n",
    "    snoopfile=\"project_snoopfile.jl\",\n",
    ")\n",
    "```"
   ]
  },
  {
   "cell_type": "markdown",
   "metadata": {
    "slideshow": {
     "slide_type": "subslide"
    }
   },
   "source": [
    "## Ship it!!\n",
    "\n",
    "And that's it! `HelloWorld.app` is a real, complete application that can be distributed to real users, either by downloading from a website, or getting it from an App Store."
   ]
  },
  {
   "cell_type": "markdown",
   "metadata": {
    "slideshow": {
     "slide_type": "subslide"
    }
   },
   "source": [
    "But can it gui!?"
   ]
  },
  {
   "cell_type": "markdown",
   "metadata": {
    "slideshow": {
     "slide_type": "slide"
    }
   },
   "source": [
    "# Adding a GUI to our App"
   ]
  },
  {
   "cell_type": "markdown",
   "metadata": {
    "slideshow": {
     "slide_type": "subslide"
    }
   },
   "source": [
    "## Julia desktop GUI Packages\n",
    "And my success using them with ApplicationBuilder.\n",
    "  \n",
    "<div style=\"display: flex; padding: 20px;\">\n",
    "  <div style=\"float: left; width: 35%;\">\n",
    "  \n",
    "-  ✅ [Blink.jl](https://github.com/JunoLab/Blink.jl) \n",
    "-  ❌ [Gtk.jl](https://github.com/JuliaGraphics/Gtk.jl)  \n",
    "-  ✅ [Libui.jl](https://github.com/joa-quim/Libui.jl)\n",
    "-   **?**  &nbsp; [Cairo.jl](https://github.com/JuliaGraphics/Cairo.jl)\n",
    " </div><div style=\"float: left; width: 65%;\">\n",
    "\n",
    "\n",
    "-  ✅ [SimpleDirectMediaLayer.jl](https://github.com/jonathanBieler/SimpleDirectMediaLayer.jl)\n",
    "-  ❌ [Tk.jl](https://github.com/JuliaGraphics/Tk.jl)\n",
    "-  ❌ [QML.jl](https://github.com/barche/QML.jl) \n",
    "-   **?**  &nbsp; [Win32GUIDemo.jl](https://github.com/ihnorton/Win32GUIDemo.jl)\n",
    "\n",
    "</div>\n",
    "</div>\n",
    "\n",
    "\n",
    "I'm still working on support for the ones that currently aren't working. Come talk to me if you're interested!"
   ]
  },
  {
   "cell_type": "code",
   "execution_count": null,
   "metadata": {
    "slideshow": {
     "slide_type": "subslide"
    }
   },
   "outputs": [],
   "source": [
    "using Blink\n",
    "\n",
    "win = Window(); sleep(2)"
   ]
  },
  {
   "cell_type": "code",
   "execution_count": null,
   "metadata": {
    "scrolled": true,
    "slideshow": {
     "slide_type": "-"
    }
   },
   "outputs": [],
   "source": [
    "body!(win, \"\"\"\n",
    "    <input id=\"mySlider\" type=\"range\" min=\"1\" max=\"100\" value=\"50\">\n",
    "    <script> \n",
    "        var mySlider = document.getElementById(\"mySlider\")\n",
    "    </script>\n",
    "\"\"\"); sleep(2)\n",
    "tools(win)\n",
    "\n",
    "Blink.@js_ win console.log(\"HELLO!\")\n",
    "Blink.@js_ win mySlider.oninput = \n",
    "    (e) -> (Blink.msg(\"sliderChange\", mySlider.value);\n",
    "            console.log(\"sent msg to julia!\"); e.returnValue=false)\n",
    "Blink.handlers(win)[\"sliderChange\"] = (val) -> (println(\"msg from js: $val\"))"
   ]
  },
  {
   "cell_type": "code",
   "execution_count": null,
   "metadata": {
    "slideshow": {
     "slide_type": "fragment"
    }
   },
   "outputs": [],
   "source": [
    "using Plots\n",
    "plotly()"
   ]
  },
  {
   "cell_type": "code",
   "execution_count": null,
   "metadata": {
    "slideshow": {
     "slide_type": "-"
    }
   },
   "outputs": [],
   "source": [
    "r = rand(0:0.1:2π)\n",
    "p = plot(r:2π/100:r+2π, sin)"
   ]
  },
  {
   "cell_type": "code",
   "execution_count": null,
   "metadata": {
    "slideshow": {
     "slide_type": "-"
    }
   },
   "outputs": [],
   "source": [
    "# Let's draw that plot as an SVG and show it in our html window!\n",
    "buf = IOBuffer()\n",
    "show(buf, MIME(\"text/html\"), p)\n",
    "plothtml = String(take!(buf))\n",
    "\n",
    "body!(win, \"\"\"<script>var Plotly = require('$(Plots._plotly_js_path)');</script>\n",
    "              <div id=\"plotHolder\"></div>\"\"\"); sleep(3)\n",
    "content!(win, \"#plotHolder\", plothtml);"
   ]
  },
  {
   "cell_type": "markdown",
   "metadata": {
    "slideshow": {
     "slide_type": "subslide"
    }
   },
   "source": [
    "### Putting it together!"
   ]
  },
  {
   "cell_type": "code",
   "execution_count": null,
   "metadata": {
    "scrolled": true,
    "slideshow": {
     "slide_type": "-"
    }
   },
   "outputs": [],
   "source": [
    "using Blink, Plots\n",
    "plotly()\n",
    "\n",
    "win = Window(); sleep(2)\n",
    "body!(win, \"\"\"\n",
    "    <input id=\"mySlider\" type=\"range\" min=\"1\" max=\"100\" value=\"50\">\n",
    "    <div id=\"plotHolder\">\n",
    "        plot goes here...\n",
    "    </div>\n",
    "    <script>\n",
    "        mySlider = document.getElementById(\"mySlider\")\n",
    "        var Plotly = require('$(Plots._plotly_js_path)');\n",
    "    </script>\n",
    "\"\"\"); sleep(2)\n",
    "tools(win)\n",
    "\n",
    "Blink.@js win console.log(\"HELLO!\")\n",
    "Blink.@js win mySlider.oninput = \n",
    "    (e) -> (Blink.msg(\"sliderChange\", mySlider.value);\n",
    "            console.log(\"sent msg to julia!\"); e.returnValue=false)\n",
    "\n",
    "function sliderChange(val)\n",
    "    r = parse(val)\n",
    "    p = Plots.plot(r:2π/100:r+2π, sin)\n",
    "    buf = IOBuffer()\n",
    "    show(buf, MIME(\"text/html\"), p)\n",
    "    plothtml = String(take!(buf))\n",
    "\n",
    "    content!(win, \"#plotHolder\", plothtml, fade=false)\n",
    "end\n",
    "\n",
    "Blink.handlers(win)[\"sliderChange\"] = sliderChange"
   ]
  },
  {
   "cell_type": "markdown",
   "metadata": {
    "slideshow": {
     "slide_type": "notes"
    }
   },
   "source": [
    "Note that it still is pretty slow.\n",
    "\n",
    "I think this is mainly because we haven't statically-compiled anything (we've only lowered our code) because we're not using any snoop-compiling. However, `autosnoop` fails for Blink programs right now."
   ]
  },
  {
   "cell_type": "markdown",
   "metadata": {
    "slideshow": {
     "slide_type": "subslide"
    }
   },
   "source": [
    "## Building a static Application!"
   ]
  },
  {
   "cell_type": "code",
   "execution_count": null,
   "metadata": {
    "slideshow": {
     "slide_type": "-"
    }
   },
   "outputs": [],
   "source": [
    "write(\"OurProject/src/project.jl\",\n",
    " raw\"\"\"\n",
    "    using Blink, Plots\n",
    "    plotly()\n",
    "\n",
    "    Base.@ccallable function julia_main(ARGS::Vector{String})::Cint\n",
    "        win = Blink.Window(); sleep(2)\n",
    "        Blink.body!(win, \\\"\\\"\\\"\n",
    "            <input id=\"mySlider\" type=\"range\" min=\"1\" max=\"100\" value=\"50\">\n",
    "            <div id=\"plotHolder\">\n",
    "                plot goes here...\n",
    "            </div>\n",
    "            <script>\n",
    "                mySlider = document.getElementById(\"mySlider\")\n",
    "                var Plotly = require('$(Plots._plotly_js_path)');\n",
    "            </script>\n",
    "        \\\"\\\"\\\"); sleep(2)\n",
    "        Blink.tools(win)\n",
    "\n",
    "        Blink.@js_ win console.log(\"HELLO!\")\n",
    "        Blink.@js_ win mySlider.oninput = \n",
    "            (e) -> (Blink.msg(\"sliderChange\", mySlider.value);\n",
    "                    console.log(\"sent msg to julia!\"); e.returnValue=false)\n",
    "\n",
    "        function sliderChange(val)\n",
    "            r = parse(val)\n",
    "            p = Plots.plot(r:2π/100:r+2π, sin);  # Don't forget this ';' to prevent it opening a plot window!\n",
    "            buf = IOBuffer()\n",
    "            # invokelatest b/c show compiles more functions, and fails due to world age (https://discourse.julialang.org/t/running-in-world-age-x-while-current-world-is-y-errors/5871/5)\n",
    "            Base.invokelatest(show, buf, MIME(\"text/html\"), p);\n",
    "            plothtml = String(take!(buf))\n",
    "\n",
    "            Blink.content!(win, \"#plotHolder\", plothtml, fade=false)\n",
    "        end\n",
    "\n",
    "        Blink.handlers(win)[\"sliderChange\"] = sliderChange\n",
    "    \n",
    "        # Keep the process alive until the window is closed!\n",
    "        while Blink.active(win)\n",
    "            sleep(1)\n",
    "        end\n",
    "\n",
    "        return 0\n",
    "    end\n",
    " \"\"\"\n",
    ")"
   ]
  },
  {
   "cell_type": "code",
   "execution_count": null,
   "metadata": {
    "scrolled": true,
    "slideshow": {
     "slide_type": "-"
    }
   },
   "outputs": [],
   "source": [
    "build_app_bundle(\n",
    "    \"OurProject/src/project.jl\",\n",
    "    appname=\"SinePlotter\",  # New App name\n",
    "    builddir=\"OurProject/builds\",\n",
    ")"
   ]
  },
  {
   "cell_type": "code",
   "execution_count": null,
   "metadata": {
    "slideshow": {
     "slide_type": "-"
    }
   },
   "outputs": [],
   "source": [
    "run(`open OurProject/builds/SinePlotter.app`)"
   ]
  },
  {
   "cell_type": "markdown",
   "metadata": {
    "slideshow": {
     "slide_type": "fragment"
    }
   },
   "source": [
    "But how do we make a _distributable_ Blink app?\n"
   ]
  },
  {
   "cell_type": "markdown",
   "metadata": {
    "slideshow": {
     "slide_type": "fragment"
    }
   },
   "source": [
    "We need to wrap up all the things Blink needs to run.\n",
    "\n",
    "Example:\n",
    "\n",
    "https://github.com/NHDaly/ApplicationBuilder.jl/blob/master/examples/blink.jl"
   ]
  },
  {
   "cell_type": "code",
   "execution_count": null,
   "metadata": {
    "slideshow": {
     "slide_type": "fragment"
    }
   },
   "outputs": [],
   "source": [
    "# Apply that to our program, and this is what we have:\n",
    "write(\"OurProject/src/project.jl\",\n",
    " raw\"\"\"\n",
    "    using Blink, Plots\n",
    "    using ApplicationBuilder\n",
    "\n",
    "    # THIS IS NEEDED FOR YOUR CODE TO RUN ON ANY COMPUTER\n",
    "    if get(ENV, \"COMPILING_APPLE_BUNDLE\", \"false\") == \"true\"\n",
    "        println(\"Overriding Blink dependency paths.\")\n",
    "        eval(Blink.AtomShell, :(_electron = \"Julia.app/Contents/MacOS/Julia\"))\n",
    "        eval(Blink.AtomShell, :(mainjs = \"main.js\"))\n",
    "        eval(Blink, :(buzz = \"main.html\"))\n",
    "        eval(Blink, :(resources = Dict(\"spinner.css\" => \"res/spinner.css\",\n",
    "                                 \"blink.js\" => \"res/blink.js\",\n",
    "                                 \"blink.css\" => \"res/blink.css\",\n",
    "                                 \"reset.css\" => \"res/reset.css\")))\n",
    "        # Clear out Blink.__inits__, since it will attempt to evaluate hardcoded paths.\n",
    "        # (We've defined all the variables manually, above: `resources` and `port`.)\n",
    "        eval(Blink, :(empty!(__inits__)))\n",
    "\n",
    "        eval(HttpParser, :(lib = basename(lib)))\n",
    "        eval(MbedTLS, :(const libmbedcrypto = basename(libmbedcrypto)))\n",
    "\n",
    "        using WebSockets\n",
    "        eval(WebSockets, :(using HttpServer))  # needed to cause @require lines to execute & compile\n",
    "        eval(WebSockets,\n",
    "            :(include(joinpath(Pkg.dir(\"WebSockets\"),\"src/HttpServer.jl\"))))  # Manually load this from the @requires line.\n",
    "\n",
    "        println(\"Done changing Blink dependencies.\")\n",
    "        \n",
    "        println(\"Overriding Plotly dependency paths.\")\n",
    "        eval(Plots, :(_plotly_js_path = \"plotly-latest.min.js\"))\n",
    "        println(\"Done changing Plotly dependencies.\")\n",
    "    end\n",
    "    \n",
    "    Base.@ccallable function julia_main(ARGS::Vector{String})::Cint\n",
    "        # THIS IS NEEDED FOR YOUR CODE TO RUN ON ANY COMPUTER\n",
    "        ApplicationBuilder.App.change_dir_if_bundle()\n",
    "\n",
    "        # This must be inside app_main() b/c must be after `change_dir_if_bundle()`\n",
    "        Plots.plotly()\n",
    "\n",
    "        # Set Blink port randomly before anything else, so it's not compiled with a fixed port.\n",
    "        eval(Blink, :(const port = get(ENV, \"BLINK_PORT\", rand(2_000:10_000))))\n",
    "\n",
    "        win = Blink.Window(); sleep(5)\n",
    "        Blink.body!(win, \\\"\\\"\\\"\n",
    "            <input id=\"mySlider\" type=\"range\" min=\"1\" max=\"100\" value=\"50\">\n",
    "            <div id=\"plotHolder\">\n",
    "                plot goes here...\n",
    "            </div>\n",
    "            <script>\n",
    "                mySlider = document.getElementById(\"mySlider\")\n",
    "                var Plotly = require('../../../../../$(Plots._plotly_js_path)');\n",
    "            </script>\n",
    "        \\\"\\\"\\\"); sleep(2)\n",
    "        Blink.tools(win)\n",
    "\n",
    "        Blink.@js_ win console.log(\"HELLO!\")\n",
    "        Blink.@js_ win mySlider.oninput = \n",
    "            (e) -> (Blink.msg(\"sliderChange\", mySlider.value);\n",
    "                    console.log(\"sent msg to julia!\"); e.returnValue=false)\n",
    "\n",
    "        function sliderChange(val)\n",
    "            r = parse(val)\n",
    "            p = Plots.plot(r:2π/100:r+2π, sin);  # Don't forget this ';' to prevent it opening a plot window!\n",
    "            buf = IOBuffer()\n",
    "            # invokelatest b/c show compiles more functions, and fails due to world age (https://discourse.julialang.org/t/running-in-world-age-x-while-current-world-is-y-errors/5871/5)\n",
    "            Base.invokelatest(show, buf, MIME(\"text/html\"), p);\n",
    "            plothtml = String(take!(buf))\n",
    "\n",
    "            Blink.content!(win, \"#plotHolder\", plothtml, fade=false)\n",
    "        end\n",
    "\n",
    "        Blink.handlers(win)[\"sliderChange\"] = sliderChange\n",
    "    \n",
    "        # Keep the process alive until the window is closed!\n",
    "        while Blink.active(win)\n",
    "            sleep(1)\n",
    "        end\n",
    "\n",
    "        return 0\n",
    "    end\n",
    "\"\"\"\n",
    ")"
   ]
  },
  {
   "cell_type": "code",
   "execution_count": null,
   "metadata": {
    "scrolled": false,
    "slideshow": {
     "slide_type": "-"
    }
   },
   "outputs": [],
   "source": [
    "# Build a distributable SinPlotter.app!\n",
    "using ApplicationBuilder; using BuildApp\n",
    "using Blink, Plots\n",
    "blinkPkg = Pkg.dir(\"Blink\")\n",
    "macroToolsPkg = Pkg.dir(\"MacroTools\")\n",
    "\n",
    "build_app_bundle(\n",
    "    \"OurProject/src/project.jl\",\n",
    "    appname=\"SinePlotterBundled\",\n",
    "    builddir=\"OurProject/builds\",\n",
    "    resources = [\n",
    "        # Blink resources\n",
    "        joinpath(blinkPkg, \"deps\",\"Julia.app\"),\n",
    "        Blink.AtomShell.mainjs,\n",
    "        joinpath(blinkPkg, \"src\",\"content\",\"main.html\"),\n",
    "        joinpath(blinkPkg, \"res\"),\n",
    "        # Plots resources\n",
    "        Plots._plotly_js_path,\n",
    "    ],\n",
    "    libraries = [\n",
    "        HttpParser.lib,\n",
    "        MbedTLS.libmbedcrypto,\n",
    "    ],\n",
    ")"
   ]
  },
  {
   "cell_type": "code",
   "execution_count": null,
   "metadata": {
    "scrolled": true,
    "slideshow": {
     "slide_type": "-"
    }
   },
   "outputs": [],
   "source": [
    "run(`open OurProject/builds/`)"
   ]
  },
  {
   "cell_type": "markdown",
   "metadata": {
    "slideshow": {
     "slide_type": "slide"
    }
   },
   "source": [
    "## Future Work <small>... with you!?...</small>\n",
    "\n",
    "- Bloat: Do we really need all of those julia libraries? (100M!) Does _pong_ need FFT?\n",
    "    - Can we maybe even cut unused code out of the sysimg? (40M!)\n",
    "- \\*Binary dependencies\\*:   (the biggest pain point right now.)\n",
    "    - Automate detection of binary dependencies?\n",
    "    - Automate copying and bundling?\n",
    "    - ✨ Automate modifying hard-coded paths? ✨\n",
    "        - **Can we have Packages handle this!?**\n",
    "        - BinDeps, BinaryProvider, BinDeps2, BinaryBuilder, etc: can we make them aware of the compilation process?"
   ]
  },
  {
   "cell_type": "markdown",
   "metadata": {
    "slideshow": {
     "slide_type": "subslide"
    }
   },
   "source": [
    "## Special Thanks\n",
    "\n",
    "- ranjanan\n",
    "- lucatrv\n",
    "- simondanish\n",
    "- vtjnash"
   ]
  }
 ],
 "metadata": {
  "kernel_info": {
   "name": "julia-0.6"
  },
  "kernelspec": {
   "display_name": "Julia 0.6.4",
   "language": "julia",
   "name": "julia-0.6"
  },
  "language_info": {
   "file_extension": ".jl",
   "mimetype": "application/julia",
   "name": "julia",
   "version": "0.6.4"
  },
  "nteract": {
   "version": "0.8.4"
  }
 },
 "nbformat": 4,
 "nbformat_minor": 2
}
